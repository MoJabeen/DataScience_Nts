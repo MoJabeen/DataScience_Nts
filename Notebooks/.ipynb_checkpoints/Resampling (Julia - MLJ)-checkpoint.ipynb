{
 "cells": [
  {
   "cell_type": "markdown",
   "id": "676cd411",
   "metadata": {},
   "source": [
    "# Cross validation via MLJ"
   ]
  },
  {
   "cell_type": "code",
   "execution_count": 1,
   "id": "6deef483",
   "metadata": {},
   "outputs": [],
   "source": [
    "using MLJ\n",
    "import RDatasets: dataset\n",
    "import DataFrames: DataFrame, select\n",
    "auto = dataset(\"ISLR\", \"Auto\")\n",
    "y, X = unpack(auto, ==(:MPG), col->true)\n",
    "train, test = partition(eachindex(y), 0.5, shuffle=true, rng=444);"
   ]
  },
  {
   "cell_type": "code",
   "execution_count": 2,
   "id": "b389e70f",
   "metadata": {
    "scrolled": true
   },
   "outputs": [
    {
     "name": "stderr",
     "output_type": "stream",
     "text": [
      "\u001b[36m\u001b[1m[ \u001b[22m\u001b[39m\u001b[36m\u001b[1mInfo: \u001b[22m\u001b[39mFor silent loading, specify `verbosity=0`. \n"
     ]
    },
    {
     "name": "stdout",
     "output_type": "stream",
     "text": [
      "import MLJLinearModels ✔\n"
     ]
    },
    {
     "data": {
      "text/plain": [
       "MLJLinearModels.LinearRegressor"
      ]
     },
     "execution_count": 2,
     "metadata": {},
     "output_type": "execute_result"
    }
   ],
   "source": [
    "LR = @load LinearRegressor pkg=MLJLinearModels"
   ]
  },
  {
   "cell_type": "code",
   "execution_count": 3,
   "id": "192e8429",
   "metadata": {},
   "outputs": [
    {
     "name": "stderr",
     "output_type": "stream",
     "text": [
      "\u001b[36m\u001b[1m[ \u001b[22m\u001b[39m\u001b[36m\u001b[1mInfo: \u001b[22m\u001b[39mTraining machine(LinearRegressor(fit_intercept = true, …), …).\n",
      "\u001b[36m\u001b[1m┌ \u001b[22m\u001b[39m\u001b[36m\u001b[1mInfo: \u001b[22m\u001b[39mSolver: MLJLinearModels.Analytical\n",
      "\u001b[36m\u001b[1m│ \u001b[22m\u001b[39m  iterative: Bool false\n",
      "\u001b[36m\u001b[1m└ \u001b[22m\u001b[39m  max_inner: Int64 200\n"
     ]
    },
    {
     "data": {
      "text/plain": [
       "23.493990895007986"
      ]
     },
     "execution_count": 3,
     "metadata": {},
     "output_type": "execute_result"
    }
   ],
   "source": [
    "lm = LR()\n",
    "mlm = machine(lm, select(X, :Horsepower), y) #Only use horsepower as predictor\n",
    "fit!(mlm, rows=train)\n",
    "rms(MLJ.predict(mlm, rows=test), y[test])^2"
   ]
  },
  {
   "cell_type": "markdown",
   "id": "5450eb4a",
   "metadata": {},
   "source": [
    "Create 3 models up third order poly by creating a df with each order:"
   ]
  },
  {
   "cell_type": "code",
   "execution_count": 4,
   "id": "a6c7f677",
   "metadata": {},
   "outputs": [],
   "source": [
    "hp = X.Horsepower\n",
    "Xhp = DataFrame(hp1=hp, hp2=hp.^2, hp3=hp.^3);"
   ]
  },
  {
   "cell_type": "markdown",
   "id": "030c97ba",
   "metadata": {},
   "source": [
    "Create a pipeline, for selecting the desired feature. Accessed like a struct."
   ]
  },
  {
   "cell_type": "code",
   "execution_count": 5,
   "id": "8ab5dc0f",
   "metadata": {},
   "outputs": [
    {
     "data": {
      "text/plain": [
       "DeterministicPipeline(\n",
       "  feature_selector = FeatureSelector(\n",
       "        features = [:hp1], \n",
       "        ignore = false), \n",
       "  linear_regressor = LinearRegressor(\n",
       "        fit_intercept = true, \n",
       "        solver = nothing), \n",
       "  cache = true)"
      ]
     },
     "execution_count": 5,
     "metadata": {},
     "output_type": "execute_result"
    }
   ],
   "source": [
    "LinModPipe = FeatureSelector(features=[:hp1]) |> LR()"
   ]
  },
  {
   "cell_type": "markdown",
   "id": "3acbc7b9",
   "metadata": {},
   "source": [
    "Create 3 models with different features:"
   ]
  },
  {
   "cell_type": "code",
   "execution_count": 6,
   "id": "8e9699f1",
   "metadata": {},
   "outputs": [
    {
     "name": "stderr",
     "output_type": "stream",
     "text": [
      "\u001b[36m\u001b[1m[ \u001b[22m\u001b[39m\u001b[36m\u001b[1mInfo: \u001b[22m\u001b[39mTraining machine(DeterministicPipeline(feature_selector = FeatureSelector(features = [:hp1], …), …), …).\n",
      "\u001b[36m\u001b[1m[ \u001b[22m\u001b[39m\u001b[36m\u001b[1mInfo: \u001b[22m\u001b[39mTraining machine(:feature_selector, …).\n",
      "\u001b[36m\u001b[1m[ \u001b[22m\u001b[39m\u001b[36m\u001b[1mInfo: \u001b[22m\u001b[39mTraining machine(:linear_regressor, …).\n",
      "\u001b[36m\u001b[1m┌ \u001b[22m\u001b[39m\u001b[36m\u001b[1mInfo: \u001b[22m\u001b[39mSolver: MLJLinearModels.Analytical\n",
      "\u001b[36m\u001b[1m│ \u001b[22m\u001b[39m  iterative: Bool false\n",
      "\u001b[36m\u001b[1m└ \u001b[22m\u001b[39m  max_inner: Int64 200\n",
      "\u001b[36m\u001b[1m[ \u001b[22m\u001b[39m\u001b[36m\u001b[1mInfo: \u001b[22m\u001b[39mTraining machine(DeterministicPipeline(feature_selector = FeatureSelector(features = [:hp1, :hp2], …), …), …).\n",
      "\u001b[36m\u001b[1m[ \u001b[22m\u001b[39m\u001b[36m\u001b[1mInfo: \u001b[22m\u001b[39mTraining machine(:feature_selector, …).\n",
      "\u001b[36m\u001b[1m[ \u001b[22m\u001b[39m\u001b[36m\u001b[1mInfo: \u001b[22m\u001b[39mTraining machine(:linear_regressor, …).\n",
      "\u001b[36m\u001b[1m┌ \u001b[22m\u001b[39m\u001b[36m\u001b[1mInfo: \u001b[22m\u001b[39mSolver: MLJLinearModels.Analytical\n",
      "\u001b[36m\u001b[1m│ \u001b[22m\u001b[39m  iterative: Bool false\n",
      "\u001b[36m\u001b[1m└ \u001b[22m\u001b[39m  max_inner: Int64 200\n",
      "\u001b[36m\u001b[1m[ \u001b[22m\u001b[39m\u001b[36m\u001b[1mInfo: \u001b[22m\u001b[39mTraining machine(DeterministicPipeline(feature_selector = FeatureSelector(features = [:hp1, :hp2, :hp3], …), …), …).\n",
      "\u001b[36m\u001b[1m[ \u001b[22m\u001b[39m\u001b[36m\u001b[1mInfo: \u001b[22m\u001b[39mTraining machine(:feature_selector, …).\n",
      "\u001b[36m\u001b[1m[ \u001b[22m\u001b[39m\u001b[36m\u001b[1mInfo: \u001b[22m\u001b[39mTraining machine(:linear_regressor, …).\n",
      "\u001b[36m\u001b[1m┌ \u001b[22m\u001b[39m\u001b[36m\u001b[1mInfo: \u001b[22m\u001b[39mSolver: MLJLinearModels.Analytical\n",
      "\u001b[36m\u001b[1m│ \u001b[22m\u001b[39m  iterative: Bool false\n",
      "\u001b[36m\u001b[1m└ \u001b[22m\u001b[39m  max_inner: Int64 200\n"
     ]
    },
    {
     "data": {
      "text/plain": [
       "trained Machine; does not cache data\n",
       "  model: DeterministicPipeline(feature_selector = FeatureSelector(features = [:hp1, :hp2, :hp3], …), …)\n",
       "  args: \n",
       "    1:\tSource @203 ⏎ Table{AbstractVector{Continuous}}\n",
       "    2:\tSource @904 ⏎ AbstractVector{Continuous}\n"
      ]
     },
     "execution_count": 6,
     "metadata": {},
     "output_type": "execute_result"
    }
   ],
   "source": [
    "lr1 = machine(LinModPipe, Xhp, y) # poly of degree 1 (line)\n",
    "fit!(lr1, rows=train)\n",
    "\n",
    "LinModPipe.feature_selector.features = [:hp1, :hp2] # poly of degree 2\n",
    "lr2 = machine(LinModPipe, Xhp, y)\n",
    "fit!(lr2, rows=train)\n",
    "\n",
    "LinModPipe.feature_selector.features = [:hp1, :hp2, :hp3] # poly of degree 3\n",
    "lr3 = machine(LinModPipe, Xhp, y)\n",
    "fit!(lr3, rows=train)"
   ]
  },
  {
   "cell_type": "code",
   "execution_count": 7,
   "id": "c99abfe9",
   "metadata": {},
   "outputs": [
    {
     "name": "stdout",
     "output_type": "stream",
     "text": [
      "get_mse(lr1) = 23.493990895007986\n",
      "get_mse(lr2) = 19.287175510952164\n",
      "get_mse(lr3) = 19.381831638657914\n"
     ]
    },
    {
     "data": {
      "text/plain": [
       "19.381831638657914"
      ]
     },
     "execution_count": 7,
     "metadata": {},
     "output_type": "execute_result"
    }
   ],
   "source": [
    "get_mse(lr) = rms(MLJ.predict(lr, rows=test), y[test])^2\n",
    "\n",
    "@show get_mse(lr1)\n",
    "@show get_mse(lr2)\n",
    "@show get_mse(lr3)"
   ]
  },
  {
   "cell_type": "markdown",
   "id": "cb3d4dc4",
   "metadata": {},
   "source": [
    "## Cross Validation"
   ]
  },
  {
   "cell_type": "markdown",
   "id": "761ef44d",
   "metadata": {},
   "source": [
    "To create the sets of poly orders up to N, create an array of the sets ie 1, 1 2 etc then use a tuned model with cross validation to compare."
   ]
  },
  {
   "cell_type": "code",
   "execution_count": 8,
   "id": "13867db1",
   "metadata": {},
   "outputs": [
    {
     "data": {
      "text/plain": [
       "DeterministicTunedModel(\n",
       "  model = DeterministicPipeline(\n",
       "        feature_selector = FeatureSelector(features = [:hp1, :hp2, :hp3], …), \n",
       "        linear_regressor = LinearRegressor(fit_intercept = true, …), \n",
       "        cache = true), \n",
       "  tuning = RandomSearch(\n",
       "        bounded = Distributions.Uniform, \n",
       "        positive_unbounded = Distributions.Gamma, \n",
       "        other = Distributions.Normal, \n",
       "        rng = Random._GLOBAL_RNG()), \n",
       "  resampling = CV(\n",
       "        nfolds = 10, \n",
       "        shuffle = false, \n",
       "        rng = Random._GLOBAL_RNG()), \n",
       "  measure = RootMeanSquaredError(), \n",
       "  weights = nothing, \n",
       "  class_weights = nothing, \n",
       "  operation = nothing, \n",
       "  range = NominalRange(feature_selector.features = [:x1], [:x1, :x2], [:x1, :x2, :x3], ...), \n",
       "  selection_heuristic = MLJTuning.NaiveSelection(nothing), \n",
       "  train_best = true, \n",
       "  repeats = 1, \n",
       "  n = nothing, \n",
       "  acceleration = CPU1{Nothing}(nothing), \n",
       "  acceleration_resampling = CPU1{Nothing}(nothing), \n",
       "  check_measure = true, \n",
       "  cache = true)"
      ]
     },
     "execution_count": 8,
     "metadata": {},
     "output_type": "execute_result"
    }
   ],
   "source": [
    "Xhp = DataFrame([hp.^i for i in 1:10], :auto)\n",
    "\n",
    "cases = [[Symbol(\"x$j\") for j in 1:i] for i in 1:10]\n",
    "r = range(LinModPipe, :(feature_selector.features), values=cases)\n",
    "\n",
    "tm = TunedModel(model=LinModPipe, ranges=r, resampling=CV(nfolds=10), measure=rms)\n",
    "#This is a tuned model, not a trained machine."
   ]
  },
  {
   "cell_type": "code",
   "execution_count": 11,
   "id": "fafe290b",
   "metadata": {},
   "outputs": [
    {
     "name": "stderr",
     "output_type": "stream",
     "text": [
      "\u001b[36m\u001b[1m[ \u001b[22m\u001b[39m\u001b[36m\u001b[1mInfo: \u001b[22m\u001b[39mTraining machine(DeterministicTunedModel(model = DeterministicPipeline(feature_selector = FeatureSelector(features = [:hp1, :hp2, :hp3], …), …), …), …).\n",
      "\u001b[36m\u001b[1m[ \u001b[22m\u001b[39m\u001b[36m\u001b[1mInfo: \u001b[22m\u001b[39mAttempting to evaluate 10 models.\n",
      "\u001b[33mEvaluating over 10 metamodels: 100%[=========================] Time: 0:00:00\u001b[39m\n"
     ]
    },
    {
     "data": {
      "text/plain": [
       "DeterministicPipeline(\n",
       "  feature_selector = FeatureSelector(\n",
       "        features = [:x1, :x2, :x3, :x4, :x5], \n",
       "        ignore = false), \n",
       "  linear_regressor = LinearRegressor(\n",
       "        fit_intercept = true, \n",
       "        solver = nothing), \n",
       "  cache = true)"
      ]
     },
     "execution_count": 11,
     "metadata": {},
     "output_type": "execute_result"
    }
   ],
   "source": [
    "mtm = machine(tm, Xhp, y)\n",
    "fit!(mtm)\n",
    "rep = report(mtm)\n",
    "\n",
    "rep.best_model"
   ]
  },
  {
   "cell_type": "code",
   "execution_count": 10,
   "id": "4ff3dd25",
   "metadata": {},
   "outputs": [
    {
     "name": "stdout",
     "output_type": "stream",
     "text": [
      "round.(res.measurements .^ 2, digits = 2) = [21.35, 27.44, 21.24, 20.91, 20.91, 25.66, 21.35, 21.35, 88.61, 88.61]\n",
      "argmin(res.measurements) = 4\n"
     ]
    },
    {
     "data": {
      "text/plain": [
       "4"
      ]
     },
     "execution_count": 10,
     "metadata": {},
     "output_type": "execute_result"
    }
   ],
   "source": [
    "res = rep.plotting\n",
    "\n",
    "@show round.(res.measurements.^2, digits=2)\n",
    "@show argmin(res.measurements)"
   ]
  }
 ],
 "metadata": {
  "kernelspec": {
   "display_name": "Julia 1.8.2",
   "language": "julia",
   "name": "julia-1.8"
  },
  "language_info": {
   "file_extension": ".jl",
   "mimetype": "application/julia",
   "name": "julia",
   "version": "1.8.2"
  }
 },
 "nbformat": 4,
 "nbformat_minor": 5
}

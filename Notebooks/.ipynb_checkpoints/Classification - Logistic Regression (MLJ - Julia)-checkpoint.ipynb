{
 "cells": [
  {
   "cell_type": "markdown",
   "id": "91e0d15f",
   "metadata": {},
   "source": [
    "# Logistic Regression"
   ]
  },
  {
   "cell_type": "code",
   "execution_count": 1,
   "id": "b21e408b",
   "metadata": {},
   "outputs": [],
   "source": [
    "using MLJ\n",
    "using RDatasets\n",
    "using DataFrames\n",
    "using CategoricalArrays\n",
    "using Gadfly\n",
    "import StatsBase: countmap, cor, var\n",
    "using PrettyPrinting"
   ]
  },
  {
   "cell_type": "code",
   "execution_count": 2,
   "id": "201d6e90",
   "metadata": {},
   "outputs": [
    {
     "data": {
      "text/html": [
       "<div><div style = \"float: left;\"><span>1250×9 DataFrame</span></div><div style = \"float: right;\"><span style = \"font-style: italic;\">1225 rows omitted</span></div><div style = \"clear: both;\"></div></div><div class = \"data-frame\" style = \"overflow-x: scroll;\"><table class = \"data-frame\" style = \"margin-bottom: 6px;\"><thead><tr class = \"header\"><th class = \"rowNumber\" style = \"font-weight: bold; text-align: right;\">Row</th><th style = \"text-align: left;\">Year</th><th style = \"text-align: left;\">Lag1</th><th style = \"text-align: left;\">Lag2</th><th style = \"text-align: left;\">Lag3</th><th style = \"text-align: left;\">Lag4</th><th style = \"text-align: left;\">Lag5</th><th style = \"text-align: left;\">Volume</th><th style = \"text-align: left;\">Today</th><th style = \"text-align: left;\">Direction</th></tr><tr class = \"subheader headerLastRow\"><th class = \"rowNumber\" style = \"font-weight: bold; text-align: right;\"></th><th title = \"Float64\" style = \"text-align: left;\">Float64</th><th title = \"Float64\" style = \"text-align: left;\">Float64</th><th title = \"Float64\" style = \"text-align: left;\">Float64</th><th title = \"Float64\" style = \"text-align: left;\">Float64</th><th title = \"Float64\" style = \"text-align: left;\">Float64</th><th title = \"Float64\" style = \"text-align: left;\">Float64</th><th title = \"Float64\" style = \"text-align: left;\">Float64</th><th title = \"Float64\" style = \"text-align: left;\">Float64</th><th title = \"CategoricalValue{String, UInt8}\" style = \"text-align: left;\">Cat…</th></tr></thead><tbody><tr><td class = \"rowNumber\" style = \"font-weight: bold; text-align: right;\">1</td><td style = \"text-align: right;\">2001.0</td><td style = \"text-align: right;\">0.381</td><td style = \"text-align: right;\">-0.192</td><td style = \"text-align: right;\">-2.624</td><td style = \"text-align: right;\">-1.055</td><td style = \"text-align: right;\">5.01</td><td style = \"text-align: right;\">1.1913</td><td style = \"text-align: right;\">0.959</td><td style = \"text-align: left;\">Up</td></tr><tr><td class = \"rowNumber\" style = \"font-weight: bold; text-align: right;\">2</td><td style = \"text-align: right;\">2001.0</td><td style = \"text-align: right;\">0.959</td><td style = \"text-align: right;\">0.381</td><td style = \"text-align: right;\">-0.192</td><td style = \"text-align: right;\">-2.624</td><td style = \"text-align: right;\">-1.055</td><td style = \"text-align: right;\">1.2965</td><td style = \"text-align: right;\">1.032</td><td style = \"text-align: left;\">Up</td></tr><tr><td class = \"rowNumber\" style = \"font-weight: bold; text-align: right;\">3</td><td style = \"text-align: right;\">2001.0</td><td style = \"text-align: right;\">1.032</td><td style = \"text-align: right;\">0.959</td><td style = \"text-align: right;\">0.381</td><td style = \"text-align: right;\">-0.192</td><td style = \"text-align: right;\">-2.624</td><td style = \"text-align: right;\">1.4112</td><td style = \"text-align: right;\">-0.623</td><td style = \"text-align: left;\">Down</td></tr><tr><td class = \"rowNumber\" style = \"font-weight: bold; text-align: right;\">4</td><td style = \"text-align: right;\">2001.0</td><td style = \"text-align: right;\">-0.623</td><td style = \"text-align: right;\">1.032</td><td style = \"text-align: right;\">0.959</td><td style = \"text-align: right;\">0.381</td><td style = \"text-align: right;\">-0.192</td><td style = \"text-align: right;\">1.276</td><td style = \"text-align: right;\">0.614</td><td style = \"text-align: left;\">Up</td></tr><tr><td class = \"rowNumber\" style = \"font-weight: bold; text-align: right;\">5</td><td style = \"text-align: right;\">2001.0</td><td style = \"text-align: right;\">0.614</td><td style = \"text-align: right;\">-0.623</td><td style = \"text-align: right;\">1.032</td><td style = \"text-align: right;\">0.959</td><td style = \"text-align: right;\">0.381</td><td style = \"text-align: right;\">1.2057</td><td style = \"text-align: right;\">0.213</td><td style = \"text-align: left;\">Up</td></tr><tr><td class = \"rowNumber\" style = \"font-weight: bold; text-align: right;\">6</td><td style = \"text-align: right;\">2001.0</td><td style = \"text-align: right;\">0.213</td><td style = \"text-align: right;\">0.614</td><td style = \"text-align: right;\">-0.623</td><td style = \"text-align: right;\">1.032</td><td style = \"text-align: right;\">0.959</td><td style = \"text-align: right;\">1.3491</td><td style = \"text-align: right;\">1.392</td><td style = \"text-align: left;\">Up</td></tr><tr><td class = \"rowNumber\" style = \"font-weight: bold; text-align: right;\">7</td><td style = \"text-align: right;\">2001.0</td><td style = \"text-align: right;\">1.392</td><td style = \"text-align: right;\">0.213</td><td style = \"text-align: right;\">0.614</td><td style = \"text-align: right;\">-0.623</td><td style = \"text-align: right;\">1.032</td><td style = \"text-align: right;\">1.445</td><td style = \"text-align: right;\">-0.403</td><td style = \"text-align: left;\">Down</td></tr><tr><td class = \"rowNumber\" style = \"font-weight: bold; text-align: right;\">8</td><td style = \"text-align: right;\">2001.0</td><td style = \"text-align: right;\">-0.403</td><td style = \"text-align: right;\">1.392</td><td style = \"text-align: right;\">0.213</td><td style = \"text-align: right;\">0.614</td><td style = \"text-align: right;\">-0.623</td><td style = \"text-align: right;\">1.4078</td><td style = \"text-align: right;\">0.027</td><td style = \"text-align: left;\">Up</td></tr><tr><td class = \"rowNumber\" style = \"font-weight: bold; text-align: right;\">9</td><td style = \"text-align: right;\">2001.0</td><td style = \"text-align: right;\">0.027</td><td style = \"text-align: right;\">-0.403</td><td style = \"text-align: right;\">1.392</td><td style = \"text-align: right;\">0.213</td><td style = \"text-align: right;\">0.614</td><td style = \"text-align: right;\">1.164</td><td style = \"text-align: right;\">1.303</td><td style = \"text-align: left;\">Up</td></tr><tr><td class = \"rowNumber\" style = \"font-weight: bold; text-align: right;\">10</td><td style = \"text-align: right;\">2001.0</td><td style = \"text-align: right;\">1.303</td><td style = \"text-align: right;\">0.027</td><td style = \"text-align: right;\">-0.403</td><td style = \"text-align: right;\">1.392</td><td style = \"text-align: right;\">0.213</td><td style = \"text-align: right;\">1.2326</td><td style = \"text-align: right;\">0.287</td><td style = \"text-align: left;\">Up</td></tr><tr><td class = \"rowNumber\" style = \"font-weight: bold; text-align: right;\">11</td><td style = \"text-align: right;\">2001.0</td><td style = \"text-align: right;\">0.287</td><td style = \"text-align: right;\">1.303</td><td style = \"text-align: right;\">0.027</td><td style = \"text-align: right;\">-0.403</td><td style = \"text-align: right;\">1.392</td><td style = \"text-align: right;\">1.309</td><td style = \"text-align: right;\">-0.498</td><td style = \"text-align: left;\">Down</td></tr><tr><td class = \"rowNumber\" style = \"font-weight: bold; text-align: right;\">12</td><td style = \"text-align: right;\">2001.0</td><td style = \"text-align: right;\">-0.498</td><td style = \"text-align: right;\">0.287</td><td style = \"text-align: right;\">1.303</td><td style = \"text-align: right;\">0.027</td><td style = \"text-align: right;\">-0.403</td><td style = \"text-align: right;\">1.258</td><td style = \"text-align: right;\">-0.189</td><td style = \"text-align: left;\">Down</td></tr><tr><td class = \"rowNumber\" style = \"font-weight: bold; text-align: right;\">13</td><td style = \"text-align: right;\">2001.0</td><td style = \"text-align: right;\">-0.189</td><td style = \"text-align: right;\">-0.498</td><td style = \"text-align: right;\">0.287</td><td style = \"text-align: right;\">1.303</td><td style = \"text-align: right;\">0.027</td><td style = \"text-align: right;\">1.098</td><td style = \"text-align: right;\">0.68</td><td style = \"text-align: left;\">Up</td></tr><tr><td style = \"text-align: right;\">&vellip;</td><td style = \"text-align: right;\">&vellip;</td><td style = \"text-align: right;\">&vellip;</td><td style = \"text-align: right;\">&vellip;</td><td style = \"text-align: right;\">&vellip;</td><td style = \"text-align: right;\">&vellip;</td><td style = \"text-align: right;\">&vellip;</td><td style = \"text-align: right;\">&vellip;</td><td style = \"text-align: right;\">&vellip;</td><td style = \"text-align: right;\">&vellip;</td></tr><tr><td class = \"rowNumber\" style = \"font-weight: bold; text-align: right;\">1239</td><td style = \"text-align: right;\">2005.0</td><td style = \"text-align: right;\">0.555</td><td style = \"text-align: right;\">0.084</td><td style = \"text-align: right;\">0.281</td><td style = \"text-align: right;\">-0.122</td><td style = \"text-align: right;\">-0.501</td><td style = \"text-align: right;\">2.39002</td><td style = \"text-align: right;\">0.419</td><td style = \"text-align: left;\">Up</td></tr><tr><td class = \"rowNumber\" style = \"font-weight: bold; text-align: right;\">1240</td><td style = \"text-align: right;\">2005.0</td><td style = \"text-align: right;\">0.419</td><td style = \"text-align: right;\">0.555</td><td style = \"text-align: right;\">0.084</td><td style = \"text-align: right;\">0.281</td><td style = \"text-align: right;\">-0.122</td><td style = \"text-align: right;\">2.14552</td><td style = \"text-align: right;\">-0.141</td><td style = \"text-align: left;\">Down</td></tr><tr><td class = \"rowNumber\" style = \"font-weight: bold; text-align: right;\">1241</td><td style = \"text-align: right;\">2005.0</td><td style = \"text-align: right;\">-0.141</td><td style = \"text-align: right;\">0.419</td><td style = \"text-align: right;\">0.555</td><td style = \"text-align: right;\">0.084</td><td style = \"text-align: right;\">0.281</td><td style = \"text-align: right;\">2.18059</td><td style = \"text-align: right;\">-0.285</td><td style = \"text-align: left;\">Down</td></tr><tr><td class = \"rowNumber\" style = \"font-weight: bold; text-align: right;\">1242</td><td style = \"text-align: right;\">2005.0</td><td style = \"text-align: right;\">-0.285</td><td style = \"text-align: right;\">-0.141</td><td style = \"text-align: right;\">0.419</td><td style = \"text-align: right;\">0.555</td><td style = \"text-align: right;\">0.084</td><td style = \"text-align: right;\">2.58419</td><td style = \"text-align: right;\">-0.584</td><td style = \"text-align: left;\">Down</td></tr><tr><td class = \"rowNumber\" style = \"font-weight: bold; text-align: right;\">1243</td><td style = \"text-align: right;\">2005.0</td><td style = \"text-align: right;\">-0.584</td><td style = \"text-align: right;\">-0.285</td><td style = \"text-align: right;\">-0.141</td><td style = \"text-align: right;\">0.419</td><td style = \"text-align: right;\">0.555</td><td style = \"text-align: right;\">2.20881</td><td style = \"text-align: right;\">-0.024</td><td style = \"text-align: left;\">Down</td></tr><tr><td class = \"rowNumber\" style = \"font-weight: bold; text-align: right;\">1244</td><td style = \"text-align: right;\">2005.0</td><td style = \"text-align: right;\">-0.024</td><td style = \"text-align: right;\">-0.584</td><td style = \"text-align: right;\">-0.285</td><td style = \"text-align: right;\">-0.141</td><td style = \"text-align: right;\">0.419</td><td style = \"text-align: right;\">1.99669</td><td style = \"text-align: right;\">0.252</td><td style = \"text-align: left;\">Up</td></tr><tr><td class = \"rowNumber\" style = \"font-weight: bold; text-align: right;\">1245</td><td style = \"text-align: right;\">2005.0</td><td style = \"text-align: right;\">0.252</td><td style = \"text-align: right;\">-0.024</td><td style = \"text-align: right;\">-0.584</td><td style = \"text-align: right;\">-0.285</td><td style = \"text-align: right;\">-0.141</td><td style = \"text-align: right;\">2.06517</td><td style = \"text-align: right;\">0.422</td><td style = \"text-align: left;\">Up</td></tr><tr><td class = \"rowNumber\" style = \"font-weight: bold; text-align: right;\">1246</td><td style = \"text-align: right;\">2005.0</td><td style = \"text-align: right;\">0.422</td><td style = \"text-align: right;\">0.252</td><td style = \"text-align: right;\">-0.024</td><td style = \"text-align: right;\">-0.584</td><td style = \"text-align: right;\">-0.285</td><td style = \"text-align: right;\">1.8885</td><td style = \"text-align: right;\">0.043</td><td style = \"text-align: left;\">Up</td></tr><tr><td class = \"rowNumber\" style = \"font-weight: bold; text-align: right;\">1247</td><td style = \"text-align: right;\">2005.0</td><td style = \"text-align: right;\">0.043</td><td style = \"text-align: right;\">0.422</td><td style = \"text-align: right;\">0.252</td><td style = \"text-align: right;\">-0.024</td><td style = \"text-align: right;\">-0.584</td><td style = \"text-align: right;\">1.28581</td><td style = \"text-align: right;\">-0.955</td><td style = \"text-align: left;\">Down</td></tr><tr><td class = \"rowNumber\" style = \"font-weight: bold; text-align: right;\">1248</td><td style = \"text-align: right;\">2005.0</td><td style = \"text-align: right;\">-0.955</td><td style = \"text-align: right;\">0.043</td><td style = \"text-align: right;\">0.422</td><td style = \"text-align: right;\">0.252</td><td style = \"text-align: right;\">-0.024</td><td style = \"text-align: right;\">1.54047</td><td style = \"text-align: right;\">0.13</td><td style = \"text-align: left;\">Up</td></tr><tr><td class = \"rowNumber\" style = \"font-weight: bold; text-align: right;\">1249</td><td style = \"text-align: right;\">2005.0</td><td style = \"text-align: right;\">0.13</td><td style = \"text-align: right;\">-0.955</td><td style = \"text-align: right;\">0.043</td><td style = \"text-align: right;\">0.422</td><td style = \"text-align: right;\">0.252</td><td style = \"text-align: right;\">1.42236</td><td style = \"text-align: right;\">-0.298</td><td style = \"text-align: left;\">Down</td></tr><tr><td class = \"rowNumber\" style = \"font-weight: bold; text-align: right;\">1250</td><td style = \"text-align: right;\">2005.0</td><td style = \"text-align: right;\">-0.298</td><td style = \"text-align: right;\">0.13</td><td style = \"text-align: right;\">-0.955</td><td style = \"text-align: right;\">0.043</td><td style = \"text-align: right;\">0.422</td><td style = \"text-align: right;\">1.38254</td><td style = \"text-align: right;\">-0.489</td><td style = \"text-align: left;\">Down</td></tr></tbody></table></div>"
      ],
      "text/latex": [
       "\\begin{tabular}{r|ccccccccc}\n",
       "\t& Year & Lag1 & Lag2 & Lag3 & Lag4 & Lag5 & Volume & Today & Direction\\\\\n",
       "\t\\hline\n",
       "\t& Float64 & Float64 & Float64 & Float64 & Float64 & Float64 & Float64 & Float64 & Cat…\\\\\n",
       "\t\\hline\n",
       "\t1 & 2001.0 & 0.381 & -0.192 & -2.624 & -1.055 & 5.01 & 1.1913 & 0.959 & Up \\\\\n",
       "\t2 & 2001.0 & 0.959 & 0.381 & -0.192 & -2.624 & -1.055 & 1.2965 & 1.032 & Up \\\\\n",
       "\t3 & 2001.0 & 1.032 & 0.959 & 0.381 & -0.192 & -2.624 & 1.4112 & -0.623 & Down \\\\\n",
       "\t4 & 2001.0 & -0.623 & 1.032 & 0.959 & 0.381 & -0.192 & 1.276 & 0.614 & Up \\\\\n",
       "\t5 & 2001.0 & 0.614 & -0.623 & 1.032 & 0.959 & 0.381 & 1.2057 & 0.213 & Up \\\\\n",
       "\t6 & 2001.0 & 0.213 & 0.614 & -0.623 & 1.032 & 0.959 & 1.3491 & 1.392 & Up \\\\\n",
       "\t7 & 2001.0 & 1.392 & 0.213 & 0.614 & -0.623 & 1.032 & 1.445 & -0.403 & Down \\\\\n",
       "\t8 & 2001.0 & -0.403 & 1.392 & 0.213 & 0.614 & -0.623 & 1.4078 & 0.027 & Up \\\\\n",
       "\t9 & 2001.0 & 0.027 & -0.403 & 1.392 & 0.213 & 0.614 & 1.164 & 1.303 & Up \\\\\n",
       "\t10 & 2001.0 & 1.303 & 0.027 & -0.403 & 1.392 & 0.213 & 1.2326 & 0.287 & Up \\\\\n",
       "\t11 & 2001.0 & 0.287 & 1.303 & 0.027 & -0.403 & 1.392 & 1.309 & -0.498 & Down \\\\\n",
       "\t12 & 2001.0 & -0.498 & 0.287 & 1.303 & 0.027 & -0.403 & 1.258 & -0.189 & Down \\\\\n",
       "\t13 & 2001.0 & -0.189 & -0.498 & 0.287 & 1.303 & 0.027 & 1.098 & 0.68 & Up \\\\\n",
       "\t14 & 2001.0 & 0.68 & -0.189 & -0.498 & 0.287 & 1.303 & 1.0531 & 0.701 & Up \\\\\n",
       "\t15 & 2001.0 & 0.701 & 0.68 & -0.189 & -0.498 & 0.287 & 1.1498 & -0.562 & Down \\\\\n",
       "\t16 & 2001.0 & -0.562 & 0.701 & 0.68 & -0.189 & -0.498 & 1.2953 & 0.546 & Up \\\\\n",
       "\t17 & 2001.0 & 0.546 & -0.562 & 0.701 & 0.68 & -0.189 & 1.1188 & -1.747 & Down \\\\\n",
       "\t18 & 2001.0 & -1.747 & 0.546 & -0.562 & 0.701 & 0.68 & 1.0484 & 0.359 & Up \\\\\n",
       "\t19 & 2001.0 & 0.359 & -1.747 & 0.546 & -0.562 & 0.701 & 1.013 & -0.151 & Down \\\\\n",
       "\t20 & 2001.0 & -0.151 & 0.359 & -1.747 & 0.546 & -0.562 & 1.0596 & -0.841 & Down \\\\\n",
       "\t21 & 2001.0 & -0.841 & -0.151 & 0.359 & -1.747 & 0.546 & 1.1583 & -0.623 & Down \\\\\n",
       "\t22 & 2001.0 & -0.623 & -0.841 & -0.151 & 0.359 & -1.747 & 1.1072 & -1.334 & Down \\\\\n",
       "\t23 & 2001.0 & -1.334 & -0.623 & -0.841 & -0.151 & 0.359 & 1.0755 & 1.183 & Up \\\\\n",
       "\t24 & 2001.0 & 1.183 & -1.334 & -0.623 & -0.841 & -0.151 & 1.0391 & -0.865 & Down \\\\\n",
       "\t25 & 2001.0 & -0.865 & 1.183 & -1.334 & -0.623 & -0.841 & 1.0752 & -0.218 & Down \\\\\n",
       "\t26 & 2001.0 & -0.218 & -0.865 & 1.183 & -1.334 & -0.623 & 1.1503 & 0.812 & Up \\\\\n",
       "\t27 & 2001.0 & 0.812 & -0.218 & -0.865 & 1.183 & -1.334 & 1.1537 & -1.891 & Down \\\\\n",
       "\t28 & 2001.0 & -1.891 & 0.812 & -0.218 & -0.865 & 1.183 & 1.2572 & -1.736 & Down \\\\\n",
       "\t29 & 2001.0 & -1.736 & -1.891 & 0.812 & -0.218 & -0.865 & 1.1122 & -1.851 & Down \\\\\n",
       "\t30 & 2001.0 & -1.851 & -1.736 & -1.891 & 0.812 & -0.218 & 1.2085 & -0.195 & Down \\\\\n",
       "\t$\\dots$ & $\\dots$ & $\\dots$ & $\\dots$ & $\\dots$ & $\\dots$ & $\\dots$ & $\\dots$ & $\\dots$ & $\\dots$ \\\\\n",
       "\\end{tabular}\n"
      ],
      "text/plain": [
       "\u001b[1m1250×9 DataFrame\u001b[0m\n",
       "\u001b[1m  Row \u001b[0m│\u001b[1m Year    \u001b[0m\u001b[1m Lag1    \u001b[0m\u001b[1m Lag2    \u001b[0m\u001b[1m Lag3    \u001b[0m\u001b[1m Lag4    \u001b[0m\u001b[1m Lag5    \u001b[0m\u001b[1m Volume  \u001b[0m\u001b[1m Today  \u001b[0m ⋯\n",
       "      │\u001b[90m Float64 \u001b[0m\u001b[90m Float64 \u001b[0m\u001b[90m Float64 \u001b[0m\u001b[90m Float64 \u001b[0m\u001b[90m Float64 \u001b[0m\u001b[90m Float64 \u001b[0m\u001b[90m Float64 \u001b[0m\u001b[90m Float64\u001b[0m ⋯\n",
       "──────┼─────────────────────────────────────────────────────────────────────────\n",
       "    1 │  2001.0    0.381   -0.192   -2.624   -1.055    5.01   1.1913     0.959 ⋯\n",
       "    2 │  2001.0    0.959    0.381   -0.192   -2.624   -1.055  1.2965     1.032\n",
       "    3 │  2001.0    1.032    0.959    0.381   -0.192   -2.624  1.4112    -0.623\n",
       "    4 │  2001.0   -0.623    1.032    0.959    0.381   -0.192  1.276      0.614\n",
       "    5 │  2001.0    0.614   -0.623    1.032    0.959    0.381  1.2057     0.213 ⋯\n",
       "    6 │  2001.0    0.213    0.614   -0.623    1.032    0.959  1.3491     1.392\n",
       "    7 │  2001.0    1.392    0.213    0.614   -0.623    1.032  1.445     -0.403\n",
       "    8 │  2001.0   -0.403    1.392    0.213    0.614   -0.623  1.4078     0.027\n",
       "    9 │  2001.0    0.027   -0.403    1.392    0.213    0.614  1.164      1.303 ⋯\n",
       "   10 │  2001.0    1.303    0.027   -0.403    1.392    0.213  1.2326     0.287\n",
       "   11 │  2001.0    0.287    1.303    0.027   -0.403    1.392  1.309     -0.498\n",
       "  ⋮   │    ⋮        ⋮        ⋮        ⋮        ⋮        ⋮        ⋮        ⋮    ⋱\n",
       " 1241 │  2005.0   -0.141    0.419    0.555    0.084    0.281  2.18059   -0.285\n",
       " 1242 │  2005.0   -0.285   -0.141    0.419    0.555    0.084  2.58419   -0.584 ⋯\n",
       " 1243 │  2005.0   -0.584   -0.285   -0.141    0.419    0.555  2.20881   -0.024\n",
       " 1244 │  2005.0   -0.024   -0.584   -0.285   -0.141    0.419  1.99669    0.252\n",
       " 1245 │  2005.0    0.252   -0.024   -0.584   -0.285   -0.141  2.06517    0.422\n",
       " 1246 │  2005.0    0.422    0.252   -0.024   -0.584   -0.285  1.8885     0.043 ⋯\n",
       " 1247 │  2005.0    0.043    0.422    0.252   -0.024   -0.584  1.28581   -0.955\n",
       " 1248 │  2005.0   -0.955    0.043    0.422    0.252   -0.024  1.54047    0.13\n",
       " 1249 │  2005.0    0.13    -0.955    0.043    0.422    0.252  1.42236   -0.298\n",
       " 1250 │  2005.0   -0.298    0.13    -0.955    0.043    0.422  1.38254   -0.489 ⋯\n",
       "\u001b[36m                                                  1 column and 1229 rows omitted\u001b[0m"
      ]
     },
     "execution_count": 2,
     "metadata": {},
     "output_type": "execute_result"
    }
   ],
   "source": [
    "sMarket = dataset(\"ISLR\",\"Smarket\")"
   ]
  },
  {
   "cell_type": "code",
   "execution_count": 3,
   "id": "37f63da1",
   "metadata": {},
   "outputs": [
    {
     "data": {
      "text/html": [
       "<div><div style = \"float: left;\"><span>9×4 DataFrame</span></div><div style = \"clear: both;\"></div></div><div class = \"data-frame\" style = \"overflow-x: scroll;\"><table class = \"data-frame\" style = \"margin-bottom: 6px;\"><thead><tr class = \"header\"><th class = \"rowNumber\" style = \"font-weight: bold; text-align: right;\">Row</th><th style = \"text-align: left;\">variable</th><th style = \"text-align: left;\">mean</th><th style = \"text-align: left;\">std</th><th style = \"text-align: left;\">eltype</th></tr><tr class = \"subheader headerLastRow\"><th class = \"rowNumber\" style = \"font-weight: bold; text-align: right;\"></th><th title = \"Symbol\" style = \"text-align: left;\">Symbol</th><th title = \"Union{Nothing, Float64}\" style = \"text-align: left;\">Union…</th><th title = \"Union{Nothing, Float64}\" style = \"text-align: left;\">Union…</th><th title = \"DataType\" style = \"text-align: left;\">DataType</th></tr></thead><tbody><tr><td class = \"rowNumber\" style = \"font-weight: bold; text-align: right;\">1</td><td style = \"text-align: left;\">Year</td><td style = \"text-align: left;\">2003.02</td><td style = \"text-align: left;\">1.40902</td><td style = \"text-align: left;\">Float64</td></tr><tr><td class = \"rowNumber\" style = \"font-weight: bold; text-align: right;\">2</td><td style = \"text-align: left;\">Lag1</td><td style = \"text-align: left;\">0.0038344</td><td style = \"text-align: left;\">1.1363</td><td style = \"text-align: left;\">Float64</td></tr><tr><td class = \"rowNumber\" style = \"font-weight: bold; text-align: right;\">3</td><td style = \"text-align: left;\">Lag2</td><td style = \"text-align: left;\">0.0039192</td><td style = \"text-align: left;\">1.13628</td><td style = \"text-align: left;\">Float64</td></tr><tr><td class = \"rowNumber\" style = \"font-weight: bold; text-align: right;\">4</td><td style = \"text-align: left;\">Lag3</td><td style = \"text-align: left;\">0.001716</td><td style = \"text-align: left;\">1.1387</td><td style = \"text-align: left;\">Float64</td></tr><tr><td class = \"rowNumber\" style = \"font-weight: bold; text-align: right;\">5</td><td style = \"text-align: left;\">Lag4</td><td style = \"text-align: left;\">0.001636</td><td style = \"text-align: left;\">1.13877</td><td style = \"text-align: left;\">Float64</td></tr><tr><td class = \"rowNumber\" style = \"font-weight: bold; text-align: right;\">6</td><td style = \"text-align: left;\">Lag5</td><td style = \"text-align: left;\">0.0056096</td><td style = \"text-align: left;\">1.14755</td><td style = \"text-align: left;\">Float64</td></tr><tr><td class = \"rowNumber\" style = \"font-weight: bold; text-align: right;\">7</td><td style = \"text-align: left;\">Volume</td><td style = \"text-align: left;\">1.47831</td><td style = \"text-align: left;\">0.360357</td><td style = \"text-align: left;\">Float64</td></tr><tr><td class = \"rowNumber\" style = \"font-weight: bold; text-align: right;\">8</td><td style = \"text-align: left;\">Today</td><td style = \"text-align: left;\">0.0031384</td><td style = \"text-align: left;\">1.13633</td><td style = \"text-align: left;\">Float64</td></tr><tr><td class = \"rowNumber\" style = \"font-weight: bold; text-align: right;\">9</td><td style = \"text-align: left;\">Direction</td><td style = \"font-style: italic; text-align: left;\"></td><td style = \"font-style: italic; text-align: left;\"></td><td style = \"text-align: left;\">CategoricalValue{String, UInt8}</td></tr></tbody></table></div>"
      ],
      "text/latex": [
       "\\begin{tabular}{r|cccc}\n",
       "\t& variable & mean & std & eltype\\\\\n",
       "\t\\hline\n",
       "\t& Symbol & Union… & Union… & DataType\\\\\n",
       "\t\\hline\n",
       "\t1 & Year & 2003.02 & 1.40902 & Float64 \\\\\n",
       "\t2 & Lag1 & 0.0038344 & 1.1363 & Float64 \\\\\n",
       "\t3 & Lag2 & 0.0039192 & 1.13628 & Float64 \\\\\n",
       "\t4 & Lag3 & 0.001716 & 1.1387 & Float64 \\\\\n",
       "\t5 & Lag4 & 0.001636 & 1.13877 & Float64 \\\\\n",
       "\t6 & Lag5 & 0.0056096 & 1.14755 & Float64 \\\\\n",
       "\t7 & Volume & 1.47831 & 0.360357 & Float64 \\\\\n",
       "\t8 & Today & 0.0031384 & 1.13633 & Float64 \\\\\n",
       "\t9 & Direction &  &  & CategoricalValue\\{String, UInt8\\} \\\\\n",
       "\\end{tabular}\n"
      ],
      "text/plain": [
       "\u001b[1m9×4 DataFrame\u001b[0m\n",
       "\u001b[1m Row \u001b[0m│\u001b[1m variable  \u001b[0m\u001b[1m mean      \u001b[0m\u001b[1m std      \u001b[0m\u001b[1m eltype                          \u001b[0m\n",
       "     │\u001b[90m Symbol    \u001b[0m\u001b[90m Union…    \u001b[0m\u001b[90m Union…   \u001b[0m\u001b[90m DataType                        \u001b[0m\n",
       "─────┼─────────────────────────────────────────────────────────────────\n",
       "   1 │ Year       2003.02    1.40902   Float64\n",
       "   2 │ Lag1       0.0038344  1.1363    Float64\n",
       "   3 │ Lag2       0.0039192  1.13628   Float64\n",
       "   4 │ Lag3       0.001716   1.1387    Float64\n",
       "   5 │ Lag4       0.001636   1.13877   Float64\n",
       "   6 │ Lag5       0.0056096  1.14755   Float64\n",
       "   7 │ Volume     1.47831    0.360357  Float64\n",
       "   8 │ Today      0.0031384  1.13633   Float64\n",
       "   9 │ Direction \u001b[90m           \u001b[0m\u001b[90m          \u001b[0m CategoricalValue{String, UInt8}"
      ]
     },
     "execution_count": 3,
     "metadata": {},
     "output_type": "execute_result"
    }
   ],
   "source": [
    "describe(sMarket, :mean, :std, :eltype)"
   ]
  },
  {
   "cell_type": "code",
   "execution_count": 4,
   "id": "8881f171",
   "metadata": {},
   "outputs": [],
   "source": [
    "y = sMarket.Direction\n",
    "X = select(sMarket, Not(:Direction)); #All other cols other than Direction"
   ]
  },
  {
   "cell_type": "markdown",
   "id": "3d49d0c4",
   "metadata": {},
   "source": [
    "To see the predictor pairwise correlations, convert to matrix."
   ]
  },
  {
   "cell_type": "code",
   "execution_count": 5,
   "id": "cb0ff4c9",
   "metadata": {},
   "outputs": [
    {
     "data": {
      "text/plain": [
       "8×8 Matrix{Float64}:\n",
       " 1.0      0.0297    0.0306    0.0332    0.0357    0.0298    0.539    0.0301\n",
       " 0.0297   1.0      -0.0263   -0.0108   -0.00299  -0.00567   0.0409  -0.0262\n",
       " 0.0306  -0.0263    1.0      -0.0259   -0.0109   -0.00356  -0.0434  -0.0103\n",
       " 0.0332  -0.0108   -0.0259    1.0      -0.0241   -0.0188   -0.0418  -0.00245\n",
       " 0.0357  -0.00299  -0.0109   -0.0241    1.0      -0.0271   -0.0484  -0.0069\n",
       " 0.0298  -0.00567  -0.00356  -0.0188   -0.0271    1.0      -0.022   -0.0349\n",
       " 0.539    0.0409   -0.0434   -0.0418   -0.0484   -0.022     1.0      0.0146\n",
       " 0.0301  -0.0262   -0.0103   -0.00245  -0.0069   -0.0349    0.0146   1.0"
      ]
     },
     "execution_count": 5,
     "metadata": {},
     "output_type": "execute_result"
    }
   ],
   "source": [
    "cm = X |> Matrix |> cor\n",
    "round.(cm, sigdigits=3)"
   ]
  },
  {
   "cell_type": "markdown",
   "id": "8f15f779",
   "metadata": {},
   "source": [
    "The target needs to be converted to a categorical object, given ordered factor with Up postive and Down negative."
   ]
  },
  {
   "cell_type": "code",
   "execution_count": 14,
   "id": "d64a2f60",
   "metadata": {},
   "outputs": [
    {
     "data": {
      "text/plain": [
       "2-element CategoricalArray{String,1,UInt8}:\n",
       " \"Down\"\n",
       " \"Up\""
      ]
     },
     "execution_count": 14,
     "metadata": {},
     "output_type": "execute_result"
    }
   ],
   "source": [
    "classes(y[1])"
   ]
  },
  {
   "cell_type": "code",
   "execution_count": 9,
   "id": "a7ebf496",
   "metadata": {},
   "outputs": [
    {
     "name": "stderr",
     "output_type": "stream",
     "text": [
      "\u001b[36m\u001b[1m[ \u001b[22m\u001b[39m\u001b[36m\u001b[1mInfo: \u001b[22m\u001b[39mFor silent loading, specify `verbosity=0`. \n"
     ]
    },
    {
     "name": "stdout",
     "output_type": "stream",
     "text": [
      "import MLJLinearModels ✔\n"
     ]
    },
    {
     "data": {
      "text/plain": [
       "MLJLinearModels.LogisticClassifier"
      ]
     },
     "execution_count": 9,
     "metadata": {},
     "output_type": "execute_result"
    }
   ],
   "source": [
    "LogisticClassifier = @load LogisticClassifier pkg=MLJLinearModels"
   ]
  },
  {
   "cell_type": "code",
   "execution_count": 10,
   "id": "7adbdb52",
   "metadata": {},
   "outputs": [
    {
     "data": {
      "text/plain": [
       "LogisticClassifier(\n",
       "  lambda = 2.220446049250313e-16, \n",
       "  gamma = 0.0, \n",
       "  penalty = :l2, \n",
       "  fit_intercept = true, \n",
       "  penalize_intercept = false, \n",
       "  scale_penalty_with_samples = true, \n",
       "  solver = nothing)"
      ]
     },
     "execution_count": 10,
     "metadata": {},
     "output_type": "execute_result"
    }
   ],
   "source": [
    "LC = LogisticClassifier()"
   ]
  },
  {
   "cell_type": "code",
   "execution_count": 11,
   "id": "e7147bf3",
   "metadata": {},
   "outputs": [
    {
     "data": {
      "text/plain": [
       "untrained Machine; caches model-specific representations of data\n",
       "  model: LogisticClassifier(lambda = 2.220446049250313e-16, …)\n",
       "  args: \n",
       "    1:\tSource @489 ⏎ Table{AbstractVector{Continuous}}\n",
       "    2:\tSource @598 ⏎ AbstractVector{Multiclass{2}}\n"
      ]
     },
     "execution_count": 11,
     "metadata": {},
     "output_type": "execute_result"
    }
   ],
   "source": [
    "X2 = select(X, Not([:Year, :Today]))\n",
    "classif = machine(LC, X2, y)"
   ]
  },
  {
   "cell_type": "code",
   "execution_count": 12,
   "id": "e0847f60",
   "metadata": {},
   "outputs": [
    {
     "name": "stderr",
     "output_type": "stream",
     "text": [
      "\u001b[36m\u001b[1m[ \u001b[22m\u001b[39m\u001b[36m\u001b[1mInfo: \u001b[22m\u001b[39mTraining machine(LogisticClassifier(lambda = 2.220446049250313e-16, …), …).\n",
      "\u001b[36m\u001b[1m[ \u001b[22m\u001b[39m\u001b[36m\u001b[1mInfo: \u001b[22m\u001b[39mSolver: MLJLinearModels.LBFGS()\n"
     ]
    },
    {
     "data": {
      "text/plain": [
       "1250-element CategoricalDistributions.UnivariateFiniteVector{Multiclass{2}, String, UInt8, Float64}:\n",
       " UnivariateFinite{Multiclass{2}}(Down=>0.493, Up=>0.507)\n",
       " UnivariateFinite{Multiclass{2}}(Down=>0.519, Up=>0.481)\n",
       " UnivariateFinite{Multiclass{2}}(Down=>0.519, Up=>0.481)\n",
       " UnivariateFinite{Multiclass{2}}(Down=>0.485, Up=>0.515)\n",
       " UnivariateFinite{Multiclass{2}}(Down=>0.489, Up=>0.511)\n",
       " UnivariateFinite{Multiclass{2}}(Down=>0.493, Up=>0.507)\n",
       " UnivariateFinite{Multiclass{2}}(Down=>0.507, Up=>0.493)\n",
       " UnivariateFinite{Multiclass{2}}(Down=>0.491, Up=>0.509)\n",
       " UnivariateFinite{Multiclass{2}}(Down=>0.482, Up=>0.518)\n",
       " UnivariateFinite{Multiclass{2}}(Down=>0.511, Up=>0.489)\n",
       " UnivariateFinite{Multiclass{2}}(Down=>0.503, Up=>0.497)\n",
       " UnivariateFinite{Multiclass{2}}(Down=>0.48, Up=>0.52)\n",
       " UnivariateFinite{Multiclass{2}}(Down=>0.482, Up=>0.518)\n",
       " ⋮\n",
       " UnivariateFinite{Multiclass{2}}(Down=>0.462, Up=>0.538)\n",
       " UnivariateFinite{Multiclass{2}}(Down=>0.472, Up=>0.528)\n",
       " UnivariateFinite{Multiclass{2}}(Down=>0.457, Up=>0.543)\n",
       " UnivariateFinite{Multiclass{2}}(Down=>0.435, Up=>0.565)\n",
       " UnivariateFinite{Multiclass{2}}(Down=>0.441, Up=>0.559)\n",
       " UnivariateFinite{Multiclass{2}}(Down=>0.457, Up=>0.543)\n",
       " UnivariateFinite{Multiclass{2}}(Down=>0.469, Up=>0.531)\n",
       " UnivariateFinite{Multiclass{2}}(Down=>0.48, Up=>0.52)\n",
       " UnivariateFinite{Multiclass{2}}(Down=>0.494, Up=>0.506)\n",
       " UnivariateFinite{Multiclass{2}}(Down=>0.461, Up=>0.539)\n",
       " UnivariateFinite{Multiclass{2}}(Down=>0.474, Up=>0.526)\n",
       " UnivariateFinite{Multiclass{2}}(Down=>0.482, Up=>0.518)"
      ]
     },
     "execution_count": 12,
     "metadata": {},
     "output_type": "execute_result"
    }
   ],
   "source": [
    "fit!(classif)\n",
    "ŷ = MLJ.predict(classif, X2)"
   ]
  },
  {
   "cell_type": "code",
   "execution_count": 13,
   "id": "c2fadadf",
   "metadata": {},
   "outputs": [
    {
     "data": {
      "text/plain": [
       "0.4784"
      ]
     },
     "execution_count": 13,
     "metadata": {},
     "output_type": "execute_result"
    }
   ],
   "source": [
    "ŷ = predict_mode(classif, X2)\n",
    "misclassification_rate(ŷ, y)"
   ]
  },
  {
   "cell_type": "code",
   "execution_count": 15,
   "id": "d44acca2",
   "metadata": {},
   "outputs": [
    {
     "name": "stderr",
     "output_type": "stream",
     "text": [
      "\u001b[33m\u001b[1m┌ \u001b[22m\u001b[39m\u001b[33m\u001b[1mWarning: \u001b[22m\u001b[39mThe classes are un-ordered,\n",
      "\u001b[33m\u001b[1m│ \u001b[22m\u001b[39musing: negative='Down' and positive='Up'.\n",
      "\u001b[33m\u001b[1m│ \u001b[22m\u001b[39mTo suppress this warning, consider coercing to OrderedFactor.\n",
      "\u001b[33m\u001b[1m└ \u001b[22m\u001b[39m\u001b[90m@ MLJBase ~/.julia/packages/MLJBase/9Nkjh/src/measures/confusion_matrix.jl:116\u001b[39m\n"
     ]
    },
    {
     "data": {
      "text/plain": [
       "              ┌───────────────────────────┐\n",
       "              │       Ground Truth        │\n",
       "┌─────────────┼─────────────┬─────────────┤\n",
       "│  Predicted  │    Down     │     Up      │\n",
       "├─────────────┼─────────────┼─────────────┤\n",
       "│    Down     │     145     │     141     │\n",
       "├─────────────┼─────────────┼─────────────┤\n",
       "│     Up      │     457     │     507     │\n",
       "└─────────────┴─────────────┴─────────────┘\n"
      ]
     },
     "execution_count": 15,
     "metadata": {},
     "output_type": "execute_result"
    }
   ],
   "source": [
    "cm = confusion_matrix(ŷ, y)"
   ]
  },
  {
   "cell_type": "code",
   "execution_count": 18,
   "id": "6b4589ce",
   "metadata": {},
   "outputs": [
    {
     "name": "stdout",
     "output_type": "stream",
     "text": [
      "accuracy(cm) = 0.5216\n",
      "precision(ŷ, y) = 0.5259336099585062\n",
      "recall(ŷ, y) = 0.7824074074074074\n",
      "f1score(ŷ, y) = 0.6290322580645161\n"
     ]
    },
    {
     "name": "stderr",
     "output_type": "stream",
     "text": [
      "\u001b[33m\u001b[1m┌ \u001b[22m\u001b[39m\u001b[33m\u001b[1mWarning: \u001b[22m\u001b[39mThe classes are un-ordered,\n",
      "\u001b[33m\u001b[1m│ \u001b[22m\u001b[39musing: negative='Down' and positive='Up'.\n",
      "\u001b[33m\u001b[1m│ \u001b[22m\u001b[39mTo suppress this warning, consider coercing to OrderedFactor.\n",
      "\u001b[33m\u001b[1m└ \u001b[22m\u001b[39m\u001b[90m@ MLJBase ~/.julia/packages/MLJBase/9Nkjh/src/measures/confusion_matrix.jl:116\u001b[39m\n",
      "\u001b[33m\u001b[1m┌ \u001b[22m\u001b[39m\u001b[33m\u001b[1mWarning: \u001b[22m\u001b[39mThe classes are un-ordered,\n",
      "\u001b[33m\u001b[1m│ \u001b[22m\u001b[39musing: negative='Down' and positive='Up'.\n",
      "\u001b[33m\u001b[1m│ \u001b[22m\u001b[39mTo suppress this warning, consider coercing to OrderedFactor.\n",
      "\u001b[33m\u001b[1m└ \u001b[22m\u001b[39m\u001b[90m@ MLJBase ~/.julia/packages/MLJBase/9Nkjh/src/measures/confusion_matrix.jl:116\u001b[39m\n",
      "\u001b[33m\u001b[1m┌ \u001b[22m\u001b[39m\u001b[33m\u001b[1mWarning: \u001b[22m\u001b[39mThe classes are un-ordered,\n",
      "\u001b[33m\u001b[1m│ \u001b[22m\u001b[39musing: negative='Down' and positive='Up'.\n",
      "\u001b[33m\u001b[1m│ \u001b[22m\u001b[39mTo suppress this warning, consider coercing to OrderedFactor.\n",
      "\u001b[33m\u001b[1m└ \u001b[22m\u001b[39m\u001b[90m@ MLJBase ~/.julia/packages/MLJBase/9Nkjh/src/measures/confusion_matrix.jl:116\u001b[39m\n"
     ]
    },
    {
     "data": {
      "text/plain": [
       "0.6290322580645161"
      ]
     },
     "execution_count": 18,
     "metadata": {},
     "output_type": "execute_result"
    }
   ],
   "source": [
    "@show accuracy(cm) # Correctly predicted/ total\n",
    "@show precision(ŷ, y) #Predicted postive rate (rate which is predicted postive and is)\n",
    "@show recall(ŷ, y) #True postive rate (rate which supposed to be postive and are)\n",
    "@show f1score(ŷ, y) #Harmonic mean of precision and recall"
   ]
  },
  {
   "cell_type": "code",
   "execution_count": 19,
   "id": "1b2f5588",
   "metadata": {},
   "outputs": [],
   "source": [
    "train = 1:findlast(X.Year .< 2005) #train index\n",
    "test = last(train)+1:length(y); #test index"
   ]
  },
  {
   "cell_type": "code",
   "execution_count": 20,
   "id": "6e7a83b2",
   "metadata": {},
   "outputs": [
    {
     "name": "stderr",
     "output_type": "stream",
     "text": [
      "\u001b[36m\u001b[1m[ \u001b[22m\u001b[39m\u001b[36m\u001b[1mInfo: \u001b[22m\u001b[39mTraining machine(LogisticClassifier(lambda = 2.220446049250313e-16, …), …).\n",
      "\u001b[36m\u001b[1m[ \u001b[22m\u001b[39m\u001b[36m\u001b[1mInfo: \u001b[22m\u001b[39mSolver: MLJLinearModels.LBFGS()\n"
     ]
    },
    {
     "data": {
      "text/plain": [
       "0.5595238095238095"
      ]
     },
     "execution_count": 20,
     "metadata": {},
     "output_type": "execute_result"
    }
   ],
   "source": [
    "X3 = select(X2, [:Lag1, :Lag2])\n",
    "classif = machine(LogisticClassifier(), X3, y)\n",
    "fit!(classif, rows=train) #Only train on the given index\n",
    "ŷ = predict_mode(classif, rows=test) #predict on given index\n",
    "accuracy(ŷ, y[test])"
   ]
  }
 ],
 "metadata": {
  "kernelspec": {
   "display_name": "Julia 1.8.2",
   "language": "julia",
   "name": "julia-1.8"
  },
  "language_info": {
   "file_extension": ".jl",
   "mimetype": "application/julia",
   "name": "julia",
   "version": "1.8.2"
  }
 },
 "nbformat": 4,
 "nbformat_minor": 5
}

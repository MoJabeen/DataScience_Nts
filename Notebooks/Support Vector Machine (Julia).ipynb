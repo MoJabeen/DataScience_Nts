{
 "cells": [
  {
   "cell_type": "markdown",
   "id": "3d877336",
   "metadata": {},
   "source": [
    "# Support Vector Machines"
   ]
  },
  {
   "cell_type": "code",
   "execution_count": 2,
   "id": "e67eabff",
   "metadata": {},
   "outputs": [
    {
     "name": "stderr",
     "output_type": "stream",
     "text": [
      "\u001b[36m\u001b[1m[ \u001b[22m\u001b[39m\u001b[36m\u001b[1mInfo: \u001b[22m\u001b[39mPrecompiling MLJ [add582a8-e3ab-11e8-2d5e-e98b27df1bc7]\n",
      "WARNING: method definition for rand at /Users/mohammadjabeen/.julia/packages/MLJBase/pCCd7/src/hyperparam/one_dimensional_range_methods.jl:406 declares type variable I but does not use it.\n",
      "WARNING: method definition for rand at /Users/mohammadjabeen/.julia/packages/MLJBase/pCCd7/src/hyperparam/one_dimensional_range_methods.jl:410 declares type variable I but does not use it.\n",
      "WARNING: method definition for #MulticlassTruePositiveRate#399 at /Users/mohammadjabeen/.julia/packages/MLJBase/pCCd7/src/measures/finite.jl:762 declares type variable T but does not use it.\n",
      "WARNING: method definition for #MulticlassTruePositiveRate#399 at /Users/mohammadjabeen/.julia/packages/MLJBase/pCCd7/src/measures/finite.jl:762 declares type variable U but does not use it.\n",
      "WARNING: method definition for #MulticlassTrueNegativeRate#400 at /Users/mohammadjabeen/.julia/packages/MLJBase/pCCd7/src/measures/finite.jl:762 declares type variable T but does not use it.\n",
      "WARNING: method definition for #MulticlassTrueNegativeRate#400 at /Users/mohammadjabeen/.julia/packages/MLJBase/pCCd7/src/measures/finite.jl:762 declares type variable U but does not use it.\n",
      "WARNING: method definition for #MulticlassFalsePositiveRate#401 at /Users/mohammadjabeen/.julia/packages/MLJBase/pCCd7/src/measures/finite.jl:762 declares type variable T but does not use it.\n",
      "WARNING: method definition for #MulticlassFalsePositiveRate#401 at /Users/mohammadjabeen/.julia/packages/MLJBase/pCCd7/src/measures/finite.jl:762 declares type variable U but does not use it.\n",
      "WARNING: method definition for #MulticlassFalseNegativeRate#402 at /Users/mohammadjabeen/.julia/packages/MLJBase/pCCd7/src/measures/finite.jl:762 declares type variable T but does not use it.\n",
      "WARNING: method definition for #MulticlassFalseNegativeRate#402 at /Users/mohammadjabeen/.julia/packages/MLJBase/pCCd7/src/measures/finite.jl:762 declares type variable U but does not use it.\n",
      "WARNING: method definition for #MulticlassFalseDiscoveryRate#403 at /Users/mohammadjabeen/.julia/packages/MLJBase/pCCd7/src/measures/finite.jl:762 declares type variable T but does not use it.\n",
      "WARNING: method definition for #MulticlassFalseDiscoveryRate#403 at /Users/mohammadjabeen/.julia/packages/MLJBase/pCCd7/src/measures/finite.jl:762 declares type variable U but does not use it.\n",
      "WARNING: method definition for #MulticlassPrecision#404 at /Users/mohammadjabeen/.julia/packages/MLJBase/pCCd7/src/measures/finite.jl:762 declares type variable T but does not use it.\n",
      "WARNING: method definition for #MulticlassPrecision#404 at /Users/mohammadjabeen/.julia/packages/MLJBase/pCCd7/src/measures/finite.jl:762 declares type variable U but does not use it.\n",
      "WARNING: method definition for #MulticlassNegativePredictiveValue#405 at /Users/mohammadjabeen/.julia/packages/MLJBase/pCCd7/src/measures/finite.jl:762 declares type variable T but does not use it.\n",
      "WARNING: method definition for #MulticlassNegativePredictiveValue#405 at /Users/mohammadjabeen/.julia/packages/MLJBase/pCCd7/src/measures/finite.jl:762 declares type variable U but does not use it.\n",
      "\u001b[36m\u001b[1m[ \u001b[22m\u001b[39m\u001b[36m\u001b[1mInfo: \u001b[22m\u001b[39mPrecompiling RDatasets [ce6b1742-4840-55fa-b093-852dadbb1d8b]\n",
      "\u001b[36m\u001b[1m[ \u001b[22m\u001b[39m\u001b[36m\u001b[1mInfo: \u001b[22m\u001b[39mPrecompiling Gadfly [c91e804a-d5a3-530f-b6f0-dfbca275c004]\n"
     ]
    }
   ],
   "source": [
    "using MLJ\n",
    "import RDatasets: dataset\n",
    "using Gadfly"
   ]
  },
  {
   "cell_type": "code",
   "execution_count": 19,
   "id": "94cf70cd",
   "metadata": {},
   "outputs": [
    {
     "data": {
      "text/plain": [
       "40-element Vector{Float64}:\n",
       " -1.0\n",
       " -1.0\n",
       " -1.0\n",
       " -1.0\n",
       " -1.0\n",
       " -1.0\n",
       " -1.0\n",
       " -1.0\n",
       " -1.0\n",
       " -1.0\n",
       " -1.0\n",
       " -1.0\n",
       " -1.0\n",
       "  ⋮\n",
       "  1.0\n",
       "  1.0\n",
       "  1.0\n",
       "  1.0\n",
       "  1.0\n",
       "  1.0\n",
       "  1.0\n",
       "  1.0\n",
       "  1.0\n",
       "  1.0\n",
       "  1.0\n",
       "  1.0"
      ]
     },
     "execution_count": 19,
     "metadata": {},
     "output_type": "execute_result"
    }
   ],
   "source": [
    "X = randn(40, 2)\n",
    "y = vcat(-ones(20), ones(20))"
   ]
  },
  {
   "cell_type": "code",
   "execution_count": 20,
   "id": "c7847c93",
   "metadata": {},
   "outputs": [],
   "source": [
    "tX = MLJ.table(X)\n",
    "ty = categorical(y);"
   ]
  },
  {
   "cell_type": "code",
   "execution_count": 17,
   "id": "830a7864",
   "metadata": {},
   "outputs": [
    {
     "data": {
      "text/plain": [
       "MLJLIBSVMInterface.SVC"
      ]
     },
     "execution_count": 17,
     "metadata": {},
     "output_type": "execute_result"
    }
   ],
   "source": [
    "Svc = @load SVC pkg=LIBSVM verbosity=0"
   ]
  },
  {
   "cell_type": "code",
   "execution_count": 21,
   "id": "c050d180",
   "metadata": {},
   "outputs": [
    {
     "data": {
      "text/plain": [
       "\u001b[34mMachine{SVC,…} @717\u001b[39m trained 0 times; caches data\n",
       "  args: \n",
       "    1:\t\u001b[34mSource @022\u001b[39m ⏎ `Table{AbstractVector{Continuous}}`\n",
       "    2:\t\u001b[34mSource @443\u001b[39m ⏎ `AbstractVector{Multiclass{2}}`\n"
      ]
     },
     "execution_count": 21,
     "metadata": {},
     "output_type": "execute_result"
    }
   ],
   "source": [
    "svc_mdl = Svc()\n",
    "svc = machine(svc_mdl, tX, ty)"
   ]
  },
  {
   "cell_type": "code",
   "execution_count": 22,
   "id": "b5002822",
   "metadata": {},
   "outputs": [
    {
     "name": "stderr",
     "output_type": "stream",
     "text": [
      "\u001b[36m\u001b[1m[ \u001b[22m\u001b[39m\u001b[36m\u001b[1mInfo: \u001b[22m\u001b[39mTraining \u001b[34mMachine{SVC,…} @717\u001b[39m.\n"
     ]
    }
   ],
   "source": [
    "fit!(svc);"
   ]
  },
  {
   "cell_type": "code",
   "execution_count": 23,
   "id": "aab7df84",
   "metadata": {},
   "outputs": [
    {
     "data": {
      "text/plain": [
       "0.325"
      ]
     },
     "execution_count": 23,
     "metadata": {},
     "output_type": "execute_result"
    }
   ],
   "source": [
    "ypred = predict(svc, tX)\n",
    "misclassification_rate(ypred, ty)"
   ]
  }
 ],
 "metadata": {
  "kernelspec": {
   "display_name": "Julia 1.8.2",
   "language": "julia",
   "name": "julia-1.8"
  },
  "language_info": {
   "file_extension": ".jl",
   "mimetype": "application/julia",
   "name": "julia",
   "version": "1.8.2"
  }
 },
 "nbformat": 4,
 "nbformat_minor": 5
}

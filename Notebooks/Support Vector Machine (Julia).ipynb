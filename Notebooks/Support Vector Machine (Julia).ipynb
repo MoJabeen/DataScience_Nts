{
 "cells": [
  {
   "cell_type": "markdown",
   "id": "3d877336",
   "metadata": {},
   "source": [
    "# Support Vector Machines"
   ]
  },
  {
   "cell_type": "code",
   "execution_count": 1,
   "id": "e67eabff",
   "metadata": {},
   "outputs": [],
   "source": [
    "using MLJ\n",
    "import RDatasets: dataset\n",
    "using Gadfly"
   ]
  },
  {
   "cell_type": "code",
   "execution_count": 2,
   "id": "94cf70cd",
   "metadata": {},
   "outputs": [
    {
     "data": {
      "text/plain": [
       "20-element Vector{Float64}:\n",
       " -1.0\n",
       " -1.0\n",
       " -1.0\n",
       " -1.0\n",
       " -1.0\n",
       " -1.0\n",
       " -1.0\n",
       " -1.0\n",
       " -1.0\n",
       " -1.0\n",
       "  1.0\n",
       "  1.0\n",
       "  1.0\n",
       "  1.0\n",
       "  1.0\n",
       "  1.0\n",
       "  1.0\n",
       "  1.0\n",
       "  1.0\n",
       "  1.0"
      ]
     },
     "execution_count": 2,
     "metadata": {},
     "output_type": "execute_result"
    }
   ],
   "source": [
    "X = randn(20, 2)\n",
    "y = vcat(-ones(10), ones(10))"
   ]
  },
  {
   "cell_type": "code",
   "execution_count": 3,
   "id": "c7847c93",
   "metadata": {},
   "outputs": [],
   "source": [
    "tX = MLJ.table(X) #Ensure X data is tabular\n",
    "ty = categorical(y); #Change response data to corret type"
   ]
  },
  {
   "cell_type": "code",
   "execution_count": 40,
   "id": "830a7864",
   "metadata": {},
   "outputs": [
    {
     "data": {
      "text/plain": [
       "MLJLIBSVMInterface.LinearSVC"
      ]
     },
     "execution_count": 40,
     "metadata": {},
     "output_type": "execute_result"
    }
   ],
   "source": [
    "Svc = @load LinearSVC pkg=LIBSVM verbosity=0"
   ]
  },
  {
   "cell_type": "code",
   "execution_count": 41,
   "id": "3b240f8f",
   "metadata": {},
   "outputs": [
    {
     "data": {
      "text/plain": [
       "LinearSVC(\n",
       "  solver = LIBSVM.Linearsolver.L2R_L2LOSS_SVC_DUAL, \n",
       "  tolerance = Inf, \n",
       "  cost = 1.0, \n",
       "  bias = -1.0)"
      ]
     },
     "execution_count": 41,
     "metadata": {},
     "output_type": "execute_result"
    }
   ],
   "source": [
    "svc_mdl = Svc()"
   ]
  },
  {
   "cell_type": "markdown",
   "id": "8e3c9091",
   "metadata": {},
   "source": [
    "LinearSVC seems to be broken via the LIBLINEAR PACKAGE, will not be further investigated for now."
   ]
  },
  {
   "cell_type": "code",
   "execution_count": 42,
   "id": "5745d4c0",
   "metadata": {},
   "outputs": [
    {
     "data": {
      "text/plain": [
       "AbstractVector{<:Finite}\u001b[90m (alias for \u001b[39m\u001b[90mAbstractArray{<:Finite, 1}\u001b[39m\u001b[90m)\u001b[39m"
      ]
     },
     "execution_count": 42,
     "metadata": {},
     "output_type": "execute_result"
    }
   ],
   "source": [
    "target_scitype(svc_mdl)"
   ]
  },
  {
   "cell_type": "code",
   "execution_count": 43,
   "id": "c050d180",
   "metadata": {},
   "outputs": [
    {
     "data": {
      "text/plain": [
       "untrained Machine; caches model-specific representations of data\n",
       "  model: LinearSVC(solver = L2R_L2LOSS_SVC_DUAL, …)\n",
       "  args: \n",
       "    1:\tSource @741 ⏎ Table{AbstractVector{Continuous}}\n",
       "    2:\tSource @916 ⏎ AbstractVector{Multiclass{2}}\n"
      ]
     },
     "execution_count": 43,
     "metadata": {},
     "output_type": "execute_result"
    }
   ],
   "source": [
    "svc = machine(svc_mdl, tX, ty)"
   ]
  },
  {
   "cell_type": "code",
   "execution_count": 44,
   "id": "b5002822",
   "metadata": {},
   "outputs": [
    {
     "name": "stderr",
     "output_type": "stream",
     "text": [
      "\u001b[36m\u001b[1m[ \u001b[22m\u001b[39m\u001b[36m\u001b[1mInfo: \u001b[22m\u001b[39mTraining machine(LinearSVC(solver = L2R_L2LOSS_SVC_DUAL, …), …).\n",
      "\u001b[91m\u001b[1m┌ \u001b[22m\u001b[39m\u001b[91m\u001b[1mError: \u001b[22m\u001b[39mProblem fitting the machine machine(LinearSVC(solver = L2R_L2LOSS_SVC_DUAL, …), …). \n",
      "\u001b[91m\u001b[1m└ \u001b[22m\u001b[39m\u001b[90m@ MLJBase ~/.julia/packages/MLJBase/9Nkjh/src/machines.jl:682\u001b[39m\n",
      "\u001b[36m\u001b[1m[ \u001b[22m\u001b[39m\u001b[36m\u001b[1mInfo: \u001b[22m\u001b[39mRunning type checks... \n",
      "\u001b[36m\u001b[1m[ \u001b[22m\u001b[39m\u001b[36m\u001b[1mInfo: \u001b[22m\u001b[39mType checks okay. \n"
     ]
    },
    {
     "ename": "LoadError",
     "evalue": "UndefVarError: liblinear not defined",
     "output_type": "error",
     "traceback": [
      "UndefVarError: liblinear not defined",
      "",
      "Stacktrace:",
      " [1] set_print",
      "   @ ~/.julia/packages/LIBLINEAR/77yny/src/LIBLINEAR.jl:81 [inlined]",
      " [2] linear_train(labels::Vector{UInt32}, instances::LinearAlgebra.Adjoint{Float64, Matrix{Float64}}; weights::Nothing, solver_type::Int32, eps::Float64, C::Float64, p::Float64, init_sol::Ptr{Float64}, bias::Float64, verbose::Bool)",
      "   @ LIBLINEAR ~/.julia/packages/LIBLINEAR/77yny/src/LIBLINEAR.jl:189",
      " [3] fit(model::MLJLIBSVMInterface.LinearSVC, verbosity::Int64, X::Tables.MatrixTable{Matrix{Float64}}, y::CategoricalArrays.CategoricalVector{Float64, UInt32, Float64, CategoricalArrays.CategoricalValue{Float64, UInt32}, Union{}}, weights::Nothing)",
      "   @ MLJLIBSVMInterface ~/.julia/packages/MLJLIBSVMInterface/HGQGd/src/MLJLIBSVMInterface.jl:399",
      " [4] fit(model::MLJLIBSVMInterface.LinearSVC, verbosity::Int64, X::Tables.MatrixTable{Matrix{Float64}}, y::CategoricalArrays.CategoricalVector{Float64, UInt32, Float64, CategoricalArrays.CategoricalValue{Float64, UInt32}, Union{}})",
      "   @ MLJLIBSVMInterface ~/.julia/packages/MLJLIBSVMInterface/HGQGd/src/MLJLIBSVMInterface.jl:389",
      " [5] fit_only!(mach::Machine{MLJLIBSVMInterface.LinearSVC, true}; rows::Nothing, verbosity::Int64, force::Bool, composite::Nothing)",
      "   @ MLJBase ~/.julia/packages/MLJBase/9Nkjh/src/machines.jl:680",
      " [6] fit_only!",
      "   @ ~/.julia/packages/MLJBase/9Nkjh/src/machines.jl:606 [inlined]",
      " [7] #fit!#63",
      "   @ ~/.julia/packages/MLJBase/9Nkjh/src/machines.jl:778 [inlined]",
      " [8] fit!(mach::Machine{MLJLIBSVMInterface.LinearSVC, true})",
      "   @ MLJBase ~/.julia/packages/MLJBase/9Nkjh/src/machines.jl:775",
      " [9] top-level scope",
      "   @ In[44]:1"
     ]
    }
   ],
   "source": [
    "fit!(svc)"
   ]
  },
  {
   "cell_type": "code",
   "execution_count": 25,
   "id": "84584c0e",
   "metadata": {},
   "outputs": [
    {
     "ename": "LoadError",
     "evalue": "machine(LinearSVC(solver = L2R_L2LOSS_SVC_DUAL, …), …) has not been trained. Call `fit!` on the machine, or, if you meant to create a learning network `Node`, use the syntax `node(fitted_params, mach::Machine)`. ",
     "output_type": "error",
     "traceback": [
      "machine(LinearSVC(solver = L2R_L2LOSS_SVC_DUAL, …), …) has not been trained. Call `fit!` on the machine, or, if you meant to create a learning network `Node`, use the syntax `node(fitted_params, mach::Machine)`. ",
      "",
      "Stacktrace:",
      " [1] fitted_params(mach::Machine{MLJLIBSVMInterface.LinearSVC, true})",
      "   @ MLJBase ~/.julia/packages/MLJBase/9Nkjh/src/machines.jl:823",
      " [2] top-level scope",
      "   @ In[25]:1"
     ]
    }
   ],
   "source": [
    "fitted_params(svc)"
   ]
  },
  {
   "cell_type": "code",
   "execution_count": 15,
   "id": "e3079368",
   "metadata": {},
   "outputs": [
    {
     "data": {
      "text/plain": [
       "(gamma = 0.37917195628720524,)"
      ]
     },
     "execution_count": 15,
     "metadata": {},
     "output_type": "execute_result"
    }
   ],
   "source": [
    "report(svc)"
   ]
  },
  {
   "cell_type": "code",
   "execution_count": null,
   "id": "aab7df84",
   "metadata": {},
   "outputs": [],
   "source": [
    "ypred = predict(svc, tX)\n",
    "misclassification_rate(ypred, ty)"
   ]
  }
 ],
 "metadata": {
  "kernelspec": {
   "display_name": "Julia 1.8.2",
   "language": "julia",
   "name": "julia-1.8"
  },
  "language_info": {
   "file_extension": ".jl",
   "mimetype": "application/julia",
   "name": "julia",
   "version": "1.8.2"
  }
 },
 "nbformat": 4,
 "nbformat_minor": 5
}

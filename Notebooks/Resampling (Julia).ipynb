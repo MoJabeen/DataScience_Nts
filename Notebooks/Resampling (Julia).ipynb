{
 "cells": [
  {
   "cell_type": "markdown",
   "id": "10979718",
   "metadata": {},
   "source": [
    "# Resampling (Julia)"
   ]
  },
  {
   "cell_type": "code",
   "execution_count": 31,
   "id": "331a241d",
   "metadata": {},
   "outputs": [],
   "source": [
    "using RDatasets\n",
    "using DataFrames\n",
    "using CategoricalArrays\n",
    "using GLM\n",
    "using Gadfly\n",
    "using Statistics\n",
    "using Lathe.preprocess: TrainTestSplit\n",
    "using MLBase"
   ]
  },
  {
   "cell_type": "code",
   "execution_count": 5,
   "id": "9d7e86be",
   "metadata": {},
   "outputs": [
    {
     "data": {
      "text/html": [
       "<table class=\"data-frame\"><thead><tr><th></th><th>MPG</th><th>Cylinders</th><th>Displacement</th><th>Horsepower</th><th>Weight</th><th>Acceleration</th><th>Year</th><th>Origin</th></tr><tr><th></th><th>Float64</th><th>Float64</th><th>Float64</th><th>Float64</th><th>Float64</th><th>Float64</th><th>Float64</th><th>Float64</th></tr></thead><tbody><p>392 rows × 9 columns (omitted printing of 1 columns)</p><tr><th>1</th><td>18.0</td><td>8.0</td><td>307.0</td><td>130.0</td><td>3504.0</td><td>12.0</td><td>70.0</td><td>1.0</td></tr><tr><th>2</th><td>15.0</td><td>8.0</td><td>350.0</td><td>165.0</td><td>3693.0</td><td>11.5</td><td>70.0</td><td>1.0</td></tr><tr><th>3</th><td>18.0</td><td>8.0</td><td>318.0</td><td>150.0</td><td>3436.0</td><td>11.0</td><td>70.0</td><td>1.0</td></tr><tr><th>4</th><td>16.0</td><td>8.0</td><td>304.0</td><td>150.0</td><td>3433.0</td><td>12.0</td><td>70.0</td><td>1.0</td></tr><tr><th>5</th><td>17.0</td><td>8.0</td><td>302.0</td><td>140.0</td><td>3449.0</td><td>10.5</td><td>70.0</td><td>1.0</td></tr><tr><th>6</th><td>15.0</td><td>8.0</td><td>429.0</td><td>198.0</td><td>4341.0</td><td>10.0</td><td>70.0</td><td>1.0</td></tr><tr><th>7</th><td>14.0</td><td>8.0</td><td>454.0</td><td>220.0</td><td>4354.0</td><td>9.0</td><td>70.0</td><td>1.0</td></tr><tr><th>8</th><td>14.0</td><td>8.0</td><td>440.0</td><td>215.0</td><td>4312.0</td><td>8.5</td><td>70.0</td><td>1.0</td></tr><tr><th>9</th><td>14.0</td><td>8.0</td><td>455.0</td><td>225.0</td><td>4425.0</td><td>10.0</td><td>70.0</td><td>1.0</td></tr><tr><th>10</th><td>15.0</td><td>8.0</td><td>390.0</td><td>190.0</td><td>3850.0</td><td>8.5</td><td>70.0</td><td>1.0</td></tr><tr><th>11</th><td>15.0</td><td>8.0</td><td>383.0</td><td>170.0</td><td>3563.0</td><td>10.0</td><td>70.0</td><td>1.0</td></tr><tr><th>12</th><td>14.0</td><td>8.0</td><td>340.0</td><td>160.0</td><td>3609.0</td><td>8.0</td><td>70.0</td><td>1.0</td></tr><tr><th>13</th><td>15.0</td><td>8.0</td><td>400.0</td><td>150.0</td><td>3761.0</td><td>9.5</td><td>70.0</td><td>1.0</td></tr><tr><th>14</th><td>14.0</td><td>8.0</td><td>455.0</td><td>225.0</td><td>3086.0</td><td>10.0</td><td>70.0</td><td>1.0</td></tr><tr><th>15</th><td>24.0</td><td>4.0</td><td>113.0</td><td>95.0</td><td>2372.0</td><td>15.0</td><td>70.0</td><td>3.0</td></tr><tr><th>16</th><td>22.0</td><td>6.0</td><td>198.0</td><td>95.0</td><td>2833.0</td><td>15.5</td><td>70.0</td><td>1.0</td></tr><tr><th>17</th><td>18.0</td><td>6.0</td><td>199.0</td><td>97.0</td><td>2774.0</td><td>15.5</td><td>70.0</td><td>1.0</td></tr><tr><th>18</th><td>21.0</td><td>6.0</td><td>200.0</td><td>85.0</td><td>2587.0</td><td>16.0</td><td>70.0</td><td>1.0</td></tr><tr><th>19</th><td>27.0</td><td>4.0</td><td>97.0</td><td>88.0</td><td>2130.0</td><td>14.5</td><td>70.0</td><td>3.0</td></tr><tr><th>20</th><td>26.0</td><td>4.0</td><td>97.0</td><td>46.0</td><td>1835.0</td><td>20.5</td><td>70.0</td><td>2.0</td></tr><tr><th>21</th><td>25.0</td><td>4.0</td><td>110.0</td><td>87.0</td><td>2672.0</td><td>17.5</td><td>70.0</td><td>2.0</td></tr><tr><th>22</th><td>24.0</td><td>4.0</td><td>107.0</td><td>90.0</td><td>2430.0</td><td>14.5</td><td>70.0</td><td>2.0</td></tr><tr><th>23</th><td>25.0</td><td>4.0</td><td>104.0</td><td>95.0</td><td>2375.0</td><td>17.5</td><td>70.0</td><td>2.0</td></tr><tr><th>24</th><td>26.0</td><td>4.0</td><td>121.0</td><td>113.0</td><td>2234.0</td><td>12.5</td><td>70.0</td><td>2.0</td></tr><tr><th>25</th><td>21.0</td><td>6.0</td><td>199.0</td><td>90.0</td><td>2648.0</td><td>15.0</td><td>70.0</td><td>1.0</td></tr><tr><th>26</th><td>10.0</td><td>8.0</td><td>360.0</td><td>215.0</td><td>4615.0</td><td>14.0</td><td>70.0</td><td>1.0</td></tr><tr><th>27</th><td>10.0</td><td>8.0</td><td>307.0</td><td>200.0</td><td>4376.0</td><td>15.0</td><td>70.0</td><td>1.0</td></tr><tr><th>28</th><td>11.0</td><td>8.0</td><td>318.0</td><td>210.0</td><td>4382.0</td><td>13.5</td><td>70.0</td><td>1.0</td></tr><tr><th>29</th><td>9.0</td><td>8.0</td><td>304.0</td><td>193.0</td><td>4732.0</td><td>18.5</td><td>70.0</td><td>1.0</td></tr><tr><th>30</th><td>27.0</td><td>4.0</td><td>97.0</td><td>88.0</td><td>2130.0</td><td>14.5</td><td>71.0</td><td>3.0</td></tr><tr><th>&vellip;</th><td>&vellip;</td><td>&vellip;</td><td>&vellip;</td><td>&vellip;</td><td>&vellip;</td><td>&vellip;</td><td>&vellip;</td><td>&vellip;</td></tr></tbody></table>"
      ],
      "text/latex": [
       "\\begin{tabular}{r|ccccccccc}\n",
       "\t& MPG & Cylinders & Displacement & Horsepower & Weight & Acceleration & Year & Origin & \\\\\n",
       "\t\\hline\n",
       "\t& Float64 & Float64 & Float64 & Float64 & Float64 & Float64 & Float64 & Float64 & \\\\\n",
       "\t\\hline\n",
       "\t1 & 18.0 & 8.0 & 307.0 & 130.0 & 3504.0 & 12.0 & 70.0 & 1.0 & $\\dots$ \\\\\n",
       "\t2 & 15.0 & 8.0 & 350.0 & 165.0 & 3693.0 & 11.5 & 70.0 & 1.0 & $\\dots$ \\\\\n",
       "\t3 & 18.0 & 8.0 & 318.0 & 150.0 & 3436.0 & 11.0 & 70.0 & 1.0 & $\\dots$ \\\\\n",
       "\t4 & 16.0 & 8.0 & 304.0 & 150.0 & 3433.0 & 12.0 & 70.0 & 1.0 & $\\dots$ \\\\\n",
       "\t5 & 17.0 & 8.0 & 302.0 & 140.0 & 3449.0 & 10.5 & 70.0 & 1.0 & $\\dots$ \\\\\n",
       "\t6 & 15.0 & 8.0 & 429.0 & 198.0 & 4341.0 & 10.0 & 70.0 & 1.0 & $\\dots$ \\\\\n",
       "\t7 & 14.0 & 8.0 & 454.0 & 220.0 & 4354.0 & 9.0 & 70.0 & 1.0 & $\\dots$ \\\\\n",
       "\t8 & 14.0 & 8.0 & 440.0 & 215.0 & 4312.0 & 8.5 & 70.0 & 1.0 & $\\dots$ \\\\\n",
       "\t9 & 14.0 & 8.0 & 455.0 & 225.0 & 4425.0 & 10.0 & 70.0 & 1.0 & $\\dots$ \\\\\n",
       "\t10 & 15.0 & 8.0 & 390.0 & 190.0 & 3850.0 & 8.5 & 70.0 & 1.0 & $\\dots$ \\\\\n",
       "\t11 & 15.0 & 8.0 & 383.0 & 170.0 & 3563.0 & 10.0 & 70.0 & 1.0 & $\\dots$ \\\\\n",
       "\t12 & 14.0 & 8.0 & 340.0 & 160.0 & 3609.0 & 8.0 & 70.0 & 1.0 & $\\dots$ \\\\\n",
       "\t13 & 15.0 & 8.0 & 400.0 & 150.0 & 3761.0 & 9.5 & 70.0 & 1.0 & $\\dots$ \\\\\n",
       "\t14 & 14.0 & 8.0 & 455.0 & 225.0 & 3086.0 & 10.0 & 70.0 & 1.0 & $\\dots$ \\\\\n",
       "\t15 & 24.0 & 4.0 & 113.0 & 95.0 & 2372.0 & 15.0 & 70.0 & 3.0 & $\\dots$ \\\\\n",
       "\t16 & 22.0 & 6.0 & 198.0 & 95.0 & 2833.0 & 15.5 & 70.0 & 1.0 & $\\dots$ \\\\\n",
       "\t17 & 18.0 & 6.0 & 199.0 & 97.0 & 2774.0 & 15.5 & 70.0 & 1.0 & $\\dots$ \\\\\n",
       "\t18 & 21.0 & 6.0 & 200.0 & 85.0 & 2587.0 & 16.0 & 70.0 & 1.0 & $\\dots$ \\\\\n",
       "\t19 & 27.0 & 4.0 & 97.0 & 88.0 & 2130.0 & 14.5 & 70.0 & 3.0 & $\\dots$ \\\\\n",
       "\t20 & 26.0 & 4.0 & 97.0 & 46.0 & 1835.0 & 20.5 & 70.0 & 2.0 & $\\dots$ \\\\\n",
       "\t21 & 25.0 & 4.0 & 110.0 & 87.0 & 2672.0 & 17.5 & 70.0 & 2.0 & $\\dots$ \\\\\n",
       "\t22 & 24.0 & 4.0 & 107.0 & 90.0 & 2430.0 & 14.5 & 70.0 & 2.0 & $\\dots$ \\\\\n",
       "\t23 & 25.0 & 4.0 & 104.0 & 95.0 & 2375.0 & 17.5 & 70.0 & 2.0 & $\\dots$ \\\\\n",
       "\t24 & 26.0 & 4.0 & 121.0 & 113.0 & 2234.0 & 12.5 & 70.0 & 2.0 & $\\dots$ \\\\\n",
       "\t25 & 21.0 & 6.0 & 199.0 & 90.0 & 2648.0 & 15.0 & 70.0 & 1.0 & $\\dots$ \\\\\n",
       "\t26 & 10.0 & 8.0 & 360.0 & 215.0 & 4615.0 & 14.0 & 70.0 & 1.0 & $\\dots$ \\\\\n",
       "\t27 & 10.0 & 8.0 & 307.0 & 200.0 & 4376.0 & 15.0 & 70.0 & 1.0 & $\\dots$ \\\\\n",
       "\t28 & 11.0 & 8.0 & 318.0 & 210.0 & 4382.0 & 13.5 & 70.0 & 1.0 & $\\dots$ \\\\\n",
       "\t29 & 9.0 & 8.0 & 304.0 & 193.0 & 4732.0 & 18.5 & 70.0 & 1.0 & $\\dots$ \\\\\n",
       "\t30 & 27.0 & 4.0 & 97.0 & 88.0 & 2130.0 & 14.5 & 71.0 & 3.0 & $\\dots$ \\\\\n",
       "\t$\\dots$ & $\\dots$ & $\\dots$ & $\\dots$ & $\\dots$ & $\\dots$ & $\\dots$ & $\\dots$ & $\\dots$ &  \\\\\n",
       "\\end{tabular}\n"
      ],
      "text/plain": [
       "\u001b[1m392×9 DataFrame\u001b[0m\n",
       "\u001b[1m Row \u001b[0m│\u001b[1m MPG     \u001b[0m\u001b[1m Cylinders \u001b[0m\u001b[1m Displacement \u001b[0m\u001b[1m Horsepower \u001b[0m\u001b[1m Weight  \u001b[0m\u001b[1m Acceleration \u001b[0m\u001b[1m Ye\u001b[0m ⋯\n",
       "\u001b[1m     \u001b[0m│\u001b[90m Float64 \u001b[0m\u001b[90m Float64   \u001b[0m\u001b[90m Float64      \u001b[0m\u001b[90m Float64    \u001b[0m\u001b[90m Float64 \u001b[0m\u001b[90m Float64      \u001b[0m\u001b[90m Fl\u001b[0m ⋯\n",
       "─────┼──────────────────────────────────────────────────────────────────────────\n",
       "   1 │    18.0        8.0         307.0       130.0   3504.0          12.0     ⋯\n",
       "   2 │    15.0        8.0         350.0       165.0   3693.0          11.5\n",
       "   3 │    18.0        8.0         318.0       150.0   3436.0          11.0\n",
       "   4 │    16.0        8.0         304.0       150.0   3433.0          12.0\n",
       "   5 │    17.0        8.0         302.0       140.0   3449.0          10.5     ⋯\n",
       "   6 │    15.0        8.0         429.0       198.0   4341.0          10.0\n",
       "   7 │    14.0        8.0         454.0       220.0   4354.0           9.0\n",
       "   8 │    14.0        8.0         440.0       215.0   4312.0           8.5\n",
       "   9 │    14.0        8.0         455.0       225.0   4425.0          10.0     ⋯\n",
       "  10 │    15.0        8.0         390.0       190.0   3850.0           8.5\n",
       "  11 │    15.0        8.0         383.0       170.0   3563.0          10.0\n",
       "  ⋮  │    ⋮         ⋮           ⋮            ⋮          ⋮          ⋮           ⋱\n",
       " 383 │    26.0        4.0         156.0        92.0   2585.0          14.5\n",
       " 384 │    22.0        6.0         232.0       112.0   2835.0          14.7     ⋯\n",
       " 385 │    32.0        4.0         144.0        96.0   2665.0          13.9\n",
       " 386 │    36.0        4.0         135.0        84.0   2370.0          13.0\n",
       " 387 │    27.0        4.0         151.0        90.0   2950.0          17.3\n",
       " 388 │    27.0        4.0         140.0        86.0   2790.0          15.6     ⋯\n",
       " 389 │    44.0        4.0          97.0        52.0   2130.0          24.6\n",
       " 390 │    32.0        4.0         135.0        84.0   2295.0          11.6\n",
       " 391 │    28.0        4.0         120.0        79.0   2625.0          18.6\n",
       " 392 │    31.0        4.0         119.0        82.0   2720.0          19.4     ⋯\n",
       "\u001b[36m                                                  3 columns and 371 rows omitted\u001b[0m"
      ]
     },
     "execution_count": 5,
     "metadata": {},
     "output_type": "execute_result"
    }
   ],
   "source": [
    "auto = dataset(\"ISLR\",\"Auto\")"
   ]
  },
  {
   "cell_type": "code",
   "execution_count": 20,
   "id": "9fa8a71b",
   "metadata": {},
   "outputs": [
    {
     "data": {
      "text/plain": [
       "(\u001b[1m191×9 DataFrame\u001b[0m\n",
       "\u001b[1m Row \u001b[0m│\u001b[1m MPG     \u001b[0m\u001b[1m Cylinders \u001b[0m\u001b[1m Displacement \u001b[0m\u001b[1m Horsepower \u001b[0m\u001b[1m Weight  \u001b[0m\u001b[1m Acceleration \u001b[0m\u001b[1m Ye\u001b[0m ⋯\n",
       "\u001b[1m     \u001b[0m│\u001b[90m Float64 \u001b[0m\u001b[90m Float64   \u001b[0m\u001b[90m Float64      \u001b[0m\u001b[90m Float64    \u001b[0m\u001b[90m Float64 \u001b[0m\u001b[90m Float64      \u001b[0m\u001b[90m Fl\u001b[0m ⋯\n",
       "─────┼──────────────────────────────────────────────────────────────────────────\n",
       "   1 │    15.0        8.0         350.0       165.0   3693.0          11.5     ⋯\n",
       "   2 │    18.0        8.0         318.0       150.0   3436.0          11.0\n",
       "   3 │    16.0        8.0         304.0       150.0   3433.0          12.0\n",
       "   4 │    17.0        8.0         302.0       140.0   3449.0          10.5\n",
       "   5 │    14.0        8.0         455.0       225.0   4425.0          10.0     ⋯\n",
       "   6 │    15.0        8.0         400.0       150.0   3761.0           9.5\n",
       "   7 │    21.0        6.0         200.0        85.0   2587.0          16.0\n",
       "   8 │    27.0        4.0          97.0        88.0   2130.0          14.5\n",
       "   9 │    26.0        4.0          97.0        46.0   1835.0          20.5     ⋯\n",
       "  10 │    10.0        8.0         307.0       200.0   4376.0          15.0\n",
       "  11 │    11.0        8.0         318.0       210.0   4382.0          13.5\n",
       "  ⋮  │    ⋮         ⋮           ⋮            ⋮          ⋮          ⋮           ⋱\n",
       " 182 │    27.0        4.0         151.0        90.0   2735.0          18.0\n",
       " 183 │    24.0        4.0         140.0        92.0   2865.0          16.4     ⋯\n",
       " 184 │    37.0        4.0          91.0        68.0   2025.0          18.2\n",
       " 185 │    38.0        4.0          91.0        67.0   1965.0          15.0\n",
       " 186 │    32.0        4.0          91.0        67.0   1965.0          15.7\n",
       " 187 │    22.0        6.0         232.0       112.0   2835.0          14.7     ⋯\n",
       " 188 │    36.0        4.0         135.0        84.0   2370.0          13.0\n",
       " 189 │    27.0        4.0         151.0        90.0   2950.0          17.3\n",
       " 190 │    28.0        4.0         120.0        79.0   2625.0          18.6\n",
       " 191 │    31.0        4.0         119.0        82.0   2720.0          19.4     ⋯\n",
       "\u001b[36m                                                  3 columns and 170 rows omitted\u001b[0m, \u001b[1m201×9 DataFrame\u001b[0m\n",
       "\u001b[1m Row \u001b[0m│\u001b[1m MPG     \u001b[0m\u001b[1m Cylinders \u001b[0m\u001b[1m Displacement \u001b[0m\u001b[1m Horsepower \u001b[0m\u001b[1m Weight  \u001b[0m\u001b[1m Acceleration \u001b[0m\u001b[1m Ye\u001b[0m ⋯\n",
       "\u001b[1m     \u001b[0m│\u001b[90m Float64 \u001b[0m\u001b[90m Float64   \u001b[0m\u001b[90m Float64      \u001b[0m\u001b[90m Float64    \u001b[0m\u001b[90m Float64 \u001b[0m\u001b[90m Float64      \u001b[0m\u001b[90m Fl\u001b[0m ⋯\n",
       "─────┼──────────────────────────────────────────────────────────────────────────\n",
       "   1 │    18.0        8.0         307.0       130.0   3504.0          12.0     ⋯\n",
       "   2 │    15.0        8.0         429.0       198.0   4341.0          10.0\n",
       "   3 │    14.0        8.0         454.0       220.0   4354.0           9.0\n",
       "   4 │    14.0        8.0         440.0       215.0   4312.0           8.5\n",
       "   5 │    15.0        8.0         390.0       190.0   3850.0           8.5     ⋯\n",
       "   6 │    15.0        8.0         383.0       170.0   3563.0          10.0\n",
       "   7 │    14.0        8.0         340.0       160.0   3609.0           8.0\n",
       "   8 │    14.0        8.0         455.0       225.0   3086.0          10.0\n",
       "   9 │    24.0        4.0         113.0        95.0   2372.0          15.0     ⋯\n",
       "  10 │    22.0        6.0         198.0        95.0   2833.0          15.5\n",
       "  11 │    18.0        6.0         199.0        97.0   2774.0          15.5\n",
       "  ⋮  │    ⋮         ⋮           ⋮            ⋮          ⋮          ⋮           ⋱\n",
       " 192 │    36.0        4.0         107.0        75.0   2205.0          14.5\n",
       " 193 │    34.0        4.0         108.0        70.0   2245.0          16.9     ⋯\n",
       " 194 │    38.0        4.0          91.0        67.0   1995.0          16.2\n",
       " 195 │    25.0        6.0         181.0       110.0   2945.0          16.4\n",
       " 196 │    38.0        6.0         262.0        85.0   3015.0          17.0\n",
       " 197 │    26.0        4.0         156.0        92.0   2585.0          14.5     ⋯\n",
       " 198 │    32.0        4.0         144.0        96.0   2665.0          13.9\n",
       " 199 │    27.0        4.0         140.0        86.0   2790.0          15.6\n",
       " 200 │    44.0        4.0          97.0        52.0   2130.0          24.6\n",
       " 201 │    32.0        4.0         135.0        84.0   2295.0          11.6     ⋯\n",
       "\u001b[36m                                                  3 columns and 180 rows omitted\u001b[0m)"
      ]
     },
     "execution_count": 20,
     "metadata": {},
     "output_type": "execute_result"
    }
   ],
   "source": [
    "#Use Lathe to split the data into train and test sets\n",
    "train, test = TrainTestSplit(auto,.5)"
   ]
  },
  {
   "cell_type": "code",
   "execution_count": 22,
   "id": "8663c451",
   "metadata": {},
   "outputs": [
    {
     "data": {
      "text/plain": [
       "StatsModels.TableRegressionModel{LinearModel{GLM.LmResp{Vector{Float64}}, GLM.DensePredChol{Float64, LinearAlgebra.CholeskyPivoted{Float64, Matrix{Float64}, Vector{Int64}}}}, Matrix{Float64}}\n",
       "\n",
       "MPG ~ 1 + Horsepower\n",
       "\n",
       "Coefficients:\n",
       "──────────────────────────────────────────────────────────────────────────\n",
       "                 Coef.  Std. Error       t  Pr(>|t|)  Lower 95%  Upper 95%\n",
       "──────────────────────────────────────────────────────────────────────────\n",
       "(Intercept)  40.0946    1.00658      39.83    <1e-93  38.109     42.0801\n",
       "Horsepower   -0.161853  0.00913813  -17.71    <1e-41  -0.179879  -0.143828\n",
       "──────────────────────────────────────────────────────────────────────────"
      ]
     },
     "execution_count": 22,
     "metadata": {},
     "output_type": "execute_result"
    }
   ],
   "source": [
    "fm = @formula(MPG ~ Horsepower)\n",
    "lR = lm(fm,train)"
   ]
  },
  {
   "cell_type": "code",
   "execution_count": 23,
   "id": "79aadc81",
   "metadata": {},
   "outputs": [
    {
     "data": {
      "text/plain": [
       "201-element Vector{Union{Missing, Float64}}:\n",
       " 19.053630107544933\n",
       "  8.0475989745293\n",
       "  4.486824196200715\n",
       "  5.296091191275393\n",
       "  9.342426166648787\n",
       " 12.579494146947502\n",
       " 14.198028137096859\n",
       "  3.677557201126036\n",
       " 24.718499073067683\n",
       " 24.718499073067683\n",
       " 24.394792275037812\n",
       " 26.01332626518717\n",
       " 25.527766068142363\n",
       "  ⋮\n",
       " 28.764834048441077\n",
       " 25.851472866172234\n",
       " 27.955567053366398\n",
       " 28.764834048441077\n",
       " 29.250394245485886\n",
       " 22.290698087843648\n",
       " 26.337033063217042\n",
       " 25.20405927011249\n",
       " 24.55664567405275\n",
       " 26.175179664202105\n",
       " 31.67819523070992\n",
       " 26.498886462231976"
      ]
     },
     "execution_count": 23,
     "metadata": {},
     "output_type": "execute_result"
    }
   ],
   "source": [
    "resp = predict(lR,test)"
   ]
  },
  {
   "cell_type": "code",
   "execution_count": 27,
   "id": "de20be09",
   "metadata": {},
   "outputs": [
    {
     "data": {
      "text/plain": [
       "26.302338433708133"
      ]
     },
     "execution_count": 27,
     "metadata": {},
     "output_type": "execute_result"
    }
   ],
   "source": [
    "MSE = []\n",
    "\n",
    "for i in 1:nrow(test)\n",
    "    val = (test[i,:MPG]-resp[i])^2\n",
    "    push!(MSE,val)\n",
    "end\n",
    "\n",
    "mean(MSE)"
   ]
  },
  {
   "cell_type": "code",
   "execution_count": 36,
   "id": "a4db5449",
   "metadata": {},
   "outputs": [
    {
     "data": {
      "text/plain": [
       "21.649050282546565"
      ]
     },
     "execution_count": 36,
     "metadata": {},
     "output_type": "execute_result"
    }
   ],
   "source": [
    "deviance(lR)/nrow(train) #Deviance gives a measure of the model fit"
   ]
  },
  {
   "cell_type": "markdown",
   "id": "eaab5582",
   "metadata": {},
   "source": [
    "## Leave one out cross validation"
   ]
  },
  {
   "cell_type": "markdown",
   "id": "c8c5489f",
   "metadata": {},
   "source": [
    "Cross validation process in R is much easier can directly produce results with a single command. Use MLUtils kfolds function to partion data into folds. Then iterate through train, test and evaluate error."
   ]
  },
  {
   "cell_type": "code",
   "execution_count": 35,
   "id": "643c4692",
   "metadata": {},
   "outputs": [
    {
     "ename": "LoadError",
     "evalue": "MethodError: no method matching cross_validate(::Float64, ::Int64, ::LOOCV, ::Base.Order.ReverseOrdering{Base.Order.ForwardOrdering}; lR=StatsModels.TableRegressionModel{LinearModel{GLM.LmResp{Vector{Float64}}, GLM.DensePredChol{Float64, LinearAlgebra.CholeskyPivoted{Float64, Matrix{Float64}, Vector{Int64}}}}, Matrix{Float64}}\n\nMPG ~ 1 + Horsepower\n\nCoefficients:\n──────────────────────────────────────────────────────────────────────────\n                 Coef.  Std. Error       t  Pr(>|t|)  Lower 95%  Upper 95%\n──────────────────────────────────────────────────────────────────────────\n(Intercept)  40.0946    1.00658      39.83    <1e-93  38.109     42.0801\nHorsepower   -0.161853  0.00913813  -17.71    <1e-41  -0.179879  -0.143828\n──────────────────────────────────────────────────────────────────────────)\n\u001b[0mClosest candidates are:\n\u001b[0m  cross_validate(\u001b[91m::Function\u001b[39m, \u001b[91m::Function\u001b[39m, \u001b[91m::Int64\u001b[39m, ::Any) at ~/.julia/packages/MLBase/SAM9e/src/crossval.jl:177\u001b[91m got unsupported keyword argument \"lR\"\u001b[39m\n\u001b[0m  cross_validate(\u001b[91m::Function\u001b[39m, \u001b[91m::Function\u001b[39m, \u001b[91m::Integer\u001b[39m, ::Any) at ~/.julia/packages/MLBase/SAM9e/src/crossval.jl:193\u001b[91m got unsupported keyword argument \"lR\"\u001b[39m",
     "output_type": "error",
     "traceback": [
      "MethodError: no method matching cross_validate(::Float64, ::Int64, ::LOOCV, ::Base.Order.ReverseOrdering{Base.Order.ForwardOrdering}; lR=StatsModels.TableRegressionModel{LinearModel{GLM.LmResp{Vector{Float64}}, GLM.DensePredChol{Float64, LinearAlgebra.CholeskyPivoted{Float64, Matrix{Float64}, Vector{Int64}}}}, Matrix{Float64}}\n\nMPG ~ 1 + Horsepower\n\nCoefficients:\n──────────────────────────────────────────────────────────────────────────\n                 Coef.  Std. Error       t  Pr(>|t|)  Lower 95%  Upper 95%\n──────────────────────────────────────────────────────────────────────────\n(Intercept)  40.0946    1.00658      39.83    <1e-93  38.109     42.0801\nHorsepower   -0.161853  0.00913813  -17.71    <1e-41  -0.179879  -0.143828\n──────────────────────────────────────────────────────────────────────────)\n\u001b[0mClosest candidates are:\n\u001b[0m  cross_validate(\u001b[91m::Function\u001b[39m, \u001b[91m::Function\u001b[39m, \u001b[91m::Int64\u001b[39m, ::Any) at ~/.julia/packages/MLBase/SAM9e/src/crossval.jl:177\u001b[91m got unsupported keyword argument \"lR\"\u001b[39m\n\u001b[0m  cross_validate(\u001b[91m::Function\u001b[39m, \u001b[91m::Function\u001b[39m, \u001b[91m::Integer\u001b[39m, ::Any) at ~/.julia/packages/MLBase/SAM9e/src/crossval.jl:193\u001b[91m got unsupported keyword argument \"lR\"\u001b[39m",
      "",
      "Stacktrace:",
      " [1] top-level scope",
      "   @ In[35]:3"
     ]
    }
   ],
   "source": [
    "fm = @formula(MPG ~ Horsepower)\n",
    "\n",
    "(c, v, inds) = cross_validate(\n",
    "    lm(fm,train),\n",
    "    compMSE(lR,test),\n",
    "    nrow(test),\n",
    "    LOOCV(nrow(test)), # cross validation plan: 5-fold \n",
    "    Reverse) # smaller score indicates better model\n",
    "\n",
    "# display results\n"
   ]
  },
  {
   "cell_type": "markdown",
   "id": "05807b05",
   "metadata": {},
   "source": [
    "## Bootstrap"
   ]
  },
  {
   "cell_type": "markdown",
   "id": "522c3585",
   "metadata": {},
   "source": [
    "Julia bootstrapping is done via the bootstrapping package. Use it to evaulte model statistics in a more accurate way."
   ]
  },
  {
   "cell_type": "code",
   "execution_count": null,
   "id": "bb988768",
   "metadata": {},
   "outputs": [],
   "source": []
  }
 ],
 "metadata": {
  "kernelspec": {
   "display_name": "Julia 1.8.2",
   "language": "julia",
   "name": "julia-1.8"
  },
  "language_info": {
   "file_extension": ".jl",
   "mimetype": "application/julia",
   "name": "julia",
   "version": "1.8.2"
  }
 },
 "nbformat": 4,
 "nbformat_minor": 5
}

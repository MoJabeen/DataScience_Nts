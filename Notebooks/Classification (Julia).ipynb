{
 "cells": [
  {
   "cell_type": "markdown",
   "id": "4e8ae977",
   "metadata": {},
   "source": [
    "# Logistic Regression"
   ]
  },
  {
   "cell_type": "code",
   "execution_count": 31,
   "id": "6dcb5f00",
   "metadata": {},
   "outputs": [],
   "source": [
    "using RDatasets\n",
    "using DataFrames\n",
    "using CategoricalArrays\n",
    "using GLM\n",
    "using Gadfly"
   ]
  },
  {
   "cell_type": "code",
   "execution_count": 41,
   "id": "2261a034",
   "metadata": {},
   "outputs": [
    {
     "data": {
      "text/html": [
       "<table class=\"data-frame\"><thead><tr><th></th><th>Year</th><th>Lag1</th><th>Lag2</th><th>Lag3</th><th>Lag4</th><th>Lag5</th><th>Volume</th><th>Today</th><th>Direction</th></tr><tr><th></th><th>Float64</th><th>Float64</th><th>Float64</th><th>Float64</th><th>Float64</th><th>Float64</th><th>Float64</th><th>Float64</th><th>Cat…</th></tr></thead><tbody><p>1,250 rows × 9 columns</p><tr><th>1</th><td>2001.0</td><td>0.381</td><td>-0.192</td><td>-2.624</td><td>-1.055</td><td>5.01</td><td>1.1913</td><td>0.959</td><td>Up</td></tr><tr><th>2</th><td>2001.0</td><td>0.959</td><td>0.381</td><td>-0.192</td><td>-2.624</td><td>-1.055</td><td>1.2965</td><td>1.032</td><td>Up</td></tr><tr><th>3</th><td>2001.0</td><td>1.032</td><td>0.959</td><td>0.381</td><td>-0.192</td><td>-2.624</td><td>1.4112</td><td>-0.623</td><td>Down</td></tr><tr><th>4</th><td>2001.0</td><td>-0.623</td><td>1.032</td><td>0.959</td><td>0.381</td><td>-0.192</td><td>1.276</td><td>0.614</td><td>Up</td></tr><tr><th>5</th><td>2001.0</td><td>0.614</td><td>-0.623</td><td>1.032</td><td>0.959</td><td>0.381</td><td>1.2057</td><td>0.213</td><td>Up</td></tr><tr><th>6</th><td>2001.0</td><td>0.213</td><td>0.614</td><td>-0.623</td><td>1.032</td><td>0.959</td><td>1.3491</td><td>1.392</td><td>Up</td></tr><tr><th>7</th><td>2001.0</td><td>1.392</td><td>0.213</td><td>0.614</td><td>-0.623</td><td>1.032</td><td>1.445</td><td>-0.403</td><td>Down</td></tr><tr><th>8</th><td>2001.0</td><td>-0.403</td><td>1.392</td><td>0.213</td><td>0.614</td><td>-0.623</td><td>1.4078</td><td>0.027</td><td>Up</td></tr><tr><th>9</th><td>2001.0</td><td>0.027</td><td>-0.403</td><td>1.392</td><td>0.213</td><td>0.614</td><td>1.164</td><td>1.303</td><td>Up</td></tr><tr><th>10</th><td>2001.0</td><td>1.303</td><td>0.027</td><td>-0.403</td><td>1.392</td><td>0.213</td><td>1.2326</td><td>0.287</td><td>Up</td></tr><tr><th>11</th><td>2001.0</td><td>0.287</td><td>1.303</td><td>0.027</td><td>-0.403</td><td>1.392</td><td>1.309</td><td>-0.498</td><td>Down</td></tr><tr><th>12</th><td>2001.0</td><td>-0.498</td><td>0.287</td><td>1.303</td><td>0.027</td><td>-0.403</td><td>1.258</td><td>-0.189</td><td>Down</td></tr><tr><th>13</th><td>2001.0</td><td>-0.189</td><td>-0.498</td><td>0.287</td><td>1.303</td><td>0.027</td><td>1.098</td><td>0.68</td><td>Up</td></tr><tr><th>14</th><td>2001.0</td><td>0.68</td><td>-0.189</td><td>-0.498</td><td>0.287</td><td>1.303</td><td>1.0531</td><td>0.701</td><td>Up</td></tr><tr><th>15</th><td>2001.0</td><td>0.701</td><td>0.68</td><td>-0.189</td><td>-0.498</td><td>0.287</td><td>1.1498</td><td>-0.562</td><td>Down</td></tr><tr><th>16</th><td>2001.0</td><td>-0.562</td><td>0.701</td><td>0.68</td><td>-0.189</td><td>-0.498</td><td>1.2953</td><td>0.546</td><td>Up</td></tr><tr><th>17</th><td>2001.0</td><td>0.546</td><td>-0.562</td><td>0.701</td><td>0.68</td><td>-0.189</td><td>1.1188</td><td>-1.747</td><td>Down</td></tr><tr><th>18</th><td>2001.0</td><td>-1.747</td><td>0.546</td><td>-0.562</td><td>0.701</td><td>0.68</td><td>1.0484</td><td>0.359</td><td>Up</td></tr><tr><th>19</th><td>2001.0</td><td>0.359</td><td>-1.747</td><td>0.546</td><td>-0.562</td><td>0.701</td><td>1.013</td><td>-0.151</td><td>Down</td></tr><tr><th>20</th><td>2001.0</td><td>-0.151</td><td>0.359</td><td>-1.747</td><td>0.546</td><td>-0.562</td><td>1.0596</td><td>-0.841</td><td>Down</td></tr><tr><th>21</th><td>2001.0</td><td>-0.841</td><td>-0.151</td><td>0.359</td><td>-1.747</td><td>0.546</td><td>1.1583</td><td>-0.623</td><td>Down</td></tr><tr><th>22</th><td>2001.0</td><td>-0.623</td><td>-0.841</td><td>-0.151</td><td>0.359</td><td>-1.747</td><td>1.1072</td><td>-1.334</td><td>Down</td></tr><tr><th>23</th><td>2001.0</td><td>-1.334</td><td>-0.623</td><td>-0.841</td><td>-0.151</td><td>0.359</td><td>1.0755</td><td>1.183</td><td>Up</td></tr><tr><th>24</th><td>2001.0</td><td>1.183</td><td>-1.334</td><td>-0.623</td><td>-0.841</td><td>-0.151</td><td>1.0391</td><td>-0.865</td><td>Down</td></tr><tr><th>25</th><td>2001.0</td><td>-0.865</td><td>1.183</td><td>-1.334</td><td>-0.623</td><td>-0.841</td><td>1.0752</td><td>-0.218</td><td>Down</td></tr><tr><th>26</th><td>2001.0</td><td>-0.218</td><td>-0.865</td><td>1.183</td><td>-1.334</td><td>-0.623</td><td>1.1503</td><td>0.812</td><td>Up</td></tr><tr><th>27</th><td>2001.0</td><td>0.812</td><td>-0.218</td><td>-0.865</td><td>1.183</td><td>-1.334</td><td>1.1537</td><td>-1.891</td><td>Down</td></tr><tr><th>28</th><td>2001.0</td><td>-1.891</td><td>0.812</td><td>-0.218</td><td>-0.865</td><td>1.183</td><td>1.2572</td><td>-1.736</td><td>Down</td></tr><tr><th>29</th><td>2001.0</td><td>-1.736</td><td>-1.891</td><td>0.812</td><td>-0.218</td><td>-0.865</td><td>1.1122</td><td>-1.851</td><td>Down</td></tr><tr><th>30</th><td>2001.0</td><td>-1.851</td><td>-1.736</td><td>-1.891</td><td>0.812</td><td>-0.218</td><td>1.2085</td><td>-0.195</td><td>Down</td></tr><tr><th>&vellip;</th><td>&vellip;</td><td>&vellip;</td><td>&vellip;</td><td>&vellip;</td><td>&vellip;</td><td>&vellip;</td><td>&vellip;</td><td>&vellip;</td><td>&vellip;</td></tr></tbody></table>"
      ],
      "text/latex": [
       "\\begin{tabular}{r|ccccccccc}\n",
       "\t& Year & Lag1 & Lag2 & Lag3 & Lag4 & Lag5 & Volume & Today & Direction\\\\\n",
       "\t\\hline\n",
       "\t& Float64 & Float64 & Float64 & Float64 & Float64 & Float64 & Float64 & Float64 & Cat…\\\\\n",
       "\t\\hline\n",
       "\t1 & 2001.0 & 0.381 & -0.192 & -2.624 & -1.055 & 5.01 & 1.1913 & 0.959 & Up \\\\\n",
       "\t2 & 2001.0 & 0.959 & 0.381 & -0.192 & -2.624 & -1.055 & 1.2965 & 1.032 & Up \\\\\n",
       "\t3 & 2001.0 & 1.032 & 0.959 & 0.381 & -0.192 & -2.624 & 1.4112 & -0.623 & Down \\\\\n",
       "\t4 & 2001.0 & -0.623 & 1.032 & 0.959 & 0.381 & -0.192 & 1.276 & 0.614 & Up \\\\\n",
       "\t5 & 2001.0 & 0.614 & -0.623 & 1.032 & 0.959 & 0.381 & 1.2057 & 0.213 & Up \\\\\n",
       "\t6 & 2001.0 & 0.213 & 0.614 & -0.623 & 1.032 & 0.959 & 1.3491 & 1.392 & Up \\\\\n",
       "\t7 & 2001.0 & 1.392 & 0.213 & 0.614 & -0.623 & 1.032 & 1.445 & -0.403 & Down \\\\\n",
       "\t8 & 2001.0 & -0.403 & 1.392 & 0.213 & 0.614 & -0.623 & 1.4078 & 0.027 & Up \\\\\n",
       "\t9 & 2001.0 & 0.027 & -0.403 & 1.392 & 0.213 & 0.614 & 1.164 & 1.303 & Up \\\\\n",
       "\t10 & 2001.0 & 1.303 & 0.027 & -0.403 & 1.392 & 0.213 & 1.2326 & 0.287 & Up \\\\\n",
       "\t11 & 2001.0 & 0.287 & 1.303 & 0.027 & -0.403 & 1.392 & 1.309 & -0.498 & Down \\\\\n",
       "\t12 & 2001.0 & -0.498 & 0.287 & 1.303 & 0.027 & -0.403 & 1.258 & -0.189 & Down \\\\\n",
       "\t13 & 2001.0 & -0.189 & -0.498 & 0.287 & 1.303 & 0.027 & 1.098 & 0.68 & Up \\\\\n",
       "\t14 & 2001.0 & 0.68 & -0.189 & -0.498 & 0.287 & 1.303 & 1.0531 & 0.701 & Up \\\\\n",
       "\t15 & 2001.0 & 0.701 & 0.68 & -0.189 & -0.498 & 0.287 & 1.1498 & -0.562 & Down \\\\\n",
       "\t16 & 2001.0 & -0.562 & 0.701 & 0.68 & -0.189 & -0.498 & 1.2953 & 0.546 & Up \\\\\n",
       "\t17 & 2001.0 & 0.546 & -0.562 & 0.701 & 0.68 & -0.189 & 1.1188 & -1.747 & Down \\\\\n",
       "\t18 & 2001.0 & -1.747 & 0.546 & -0.562 & 0.701 & 0.68 & 1.0484 & 0.359 & Up \\\\\n",
       "\t19 & 2001.0 & 0.359 & -1.747 & 0.546 & -0.562 & 0.701 & 1.013 & -0.151 & Down \\\\\n",
       "\t20 & 2001.0 & -0.151 & 0.359 & -1.747 & 0.546 & -0.562 & 1.0596 & -0.841 & Down \\\\\n",
       "\t21 & 2001.0 & -0.841 & -0.151 & 0.359 & -1.747 & 0.546 & 1.1583 & -0.623 & Down \\\\\n",
       "\t22 & 2001.0 & -0.623 & -0.841 & -0.151 & 0.359 & -1.747 & 1.1072 & -1.334 & Down \\\\\n",
       "\t23 & 2001.0 & -1.334 & -0.623 & -0.841 & -0.151 & 0.359 & 1.0755 & 1.183 & Up \\\\\n",
       "\t24 & 2001.0 & 1.183 & -1.334 & -0.623 & -0.841 & -0.151 & 1.0391 & -0.865 & Down \\\\\n",
       "\t25 & 2001.0 & -0.865 & 1.183 & -1.334 & -0.623 & -0.841 & 1.0752 & -0.218 & Down \\\\\n",
       "\t26 & 2001.0 & -0.218 & -0.865 & 1.183 & -1.334 & -0.623 & 1.1503 & 0.812 & Up \\\\\n",
       "\t27 & 2001.0 & 0.812 & -0.218 & -0.865 & 1.183 & -1.334 & 1.1537 & -1.891 & Down \\\\\n",
       "\t28 & 2001.0 & -1.891 & 0.812 & -0.218 & -0.865 & 1.183 & 1.2572 & -1.736 & Down \\\\\n",
       "\t29 & 2001.0 & -1.736 & -1.891 & 0.812 & -0.218 & -0.865 & 1.1122 & -1.851 & Down \\\\\n",
       "\t30 & 2001.0 & -1.851 & -1.736 & -1.891 & 0.812 & -0.218 & 1.2085 & -0.195 & Down \\\\\n",
       "\t$\\dots$ & $\\dots$ & $\\dots$ & $\\dots$ & $\\dots$ & $\\dots$ & $\\dots$ & $\\dots$ & $\\dots$ & $\\dots$ \\\\\n",
       "\\end{tabular}\n"
      ],
      "text/plain": [
       "\u001b[1m1250×9 DataFrame\u001b[0m\n",
       "\u001b[1m  Row \u001b[0m│\u001b[1m Year    \u001b[0m\u001b[1m Lag1    \u001b[0m\u001b[1m Lag2    \u001b[0m\u001b[1m Lag3    \u001b[0m\u001b[1m Lag4    \u001b[0m\u001b[1m Lag5    \u001b[0m\u001b[1m Volume  \u001b[0m\u001b[1m Today  \u001b[0m ⋯\n",
       "\u001b[1m      \u001b[0m│\u001b[90m Float64 \u001b[0m\u001b[90m Float64 \u001b[0m\u001b[90m Float64 \u001b[0m\u001b[90m Float64 \u001b[0m\u001b[90m Float64 \u001b[0m\u001b[90m Float64 \u001b[0m\u001b[90m Float64 \u001b[0m\u001b[90m Float64\u001b[0m ⋯\n",
       "──────┼─────────────────────────────────────────────────────────────────────────\n",
       "    1 │  2001.0    0.381   -0.192   -2.624   -1.055    5.01   1.1913     0.959 ⋯\n",
       "    2 │  2001.0    0.959    0.381   -0.192   -2.624   -1.055  1.2965     1.032\n",
       "    3 │  2001.0    1.032    0.959    0.381   -0.192   -2.624  1.4112    -0.623\n",
       "    4 │  2001.0   -0.623    1.032    0.959    0.381   -0.192  1.276      0.614\n",
       "    5 │  2001.0    0.614   -0.623    1.032    0.959    0.381  1.2057     0.213 ⋯\n",
       "    6 │  2001.0    0.213    0.614   -0.623    1.032    0.959  1.3491     1.392\n",
       "    7 │  2001.0    1.392    0.213    0.614   -0.623    1.032  1.445     -0.403\n",
       "    8 │  2001.0   -0.403    1.392    0.213    0.614   -0.623  1.4078     0.027\n",
       "    9 │  2001.0    0.027   -0.403    1.392    0.213    0.614  1.164      1.303 ⋯\n",
       "   10 │  2001.0    1.303    0.027   -0.403    1.392    0.213  1.2326     0.287\n",
       "   11 │  2001.0    0.287    1.303    0.027   -0.403    1.392  1.309     -0.498\n",
       "  ⋮   │    ⋮        ⋮        ⋮        ⋮        ⋮        ⋮        ⋮        ⋮    ⋱\n",
       " 1241 │  2005.0   -0.141    0.419    0.555    0.084    0.281  2.18059   -0.285\n",
       " 1242 │  2005.0   -0.285   -0.141    0.419    0.555    0.084  2.58419   -0.584 ⋯\n",
       " 1243 │  2005.0   -0.584   -0.285   -0.141    0.419    0.555  2.20881   -0.024\n",
       " 1244 │  2005.0   -0.024   -0.584   -0.285   -0.141    0.419  1.99669    0.252\n",
       " 1245 │  2005.0    0.252   -0.024   -0.584   -0.285   -0.141  2.06517    0.422\n",
       " 1246 │  2005.0    0.422    0.252   -0.024   -0.584   -0.285  1.8885     0.043 ⋯\n",
       " 1247 │  2005.0    0.043    0.422    0.252   -0.024   -0.584  1.28581   -0.955\n",
       " 1248 │  2005.0   -0.955    0.043    0.422    0.252   -0.024  1.54047    0.13\n",
       " 1249 │  2005.0    0.13    -0.955    0.043    0.422    0.252  1.42236   -0.298\n",
       " 1250 │  2005.0   -0.298    0.13    -0.955    0.043    0.422  1.38254   -0.489 ⋯\n",
       "\u001b[36m                                                  1 column and 1229 rows omitted\u001b[0m"
      ]
     },
     "execution_count": 41,
     "metadata": {},
     "output_type": "execute_result"
    }
   ],
   "source": [
    "sMarket = dataset(\"ISLR\",\"Smarket\")"
   ]
  },
  {
   "cell_type": "code",
   "execution_count": 48,
   "id": "62500ef7",
   "metadata": {},
   "outputs": [
    {
     "data": {
      "text/plain": [
       "1250-element Vector{Int64}:\n",
       " 0\n",
       " 0\n",
       " 0\n",
       " 0\n",
       " 0\n",
       " 0\n",
       " 0\n",
       " 0\n",
       " 0\n",
       " 0\n",
       " 0\n",
       " 0\n",
       " 0\n",
       " ⋮\n",
       " 0\n",
       " 0\n",
       " 0\n",
       " 0\n",
       " 0\n",
       " 0\n",
       " 0\n",
       " 0\n",
       " 0\n",
       " 0\n",
       " 0\n",
       " 0"
      ]
     },
     "execution_count": 48,
     "metadata": {},
     "output_type": "execute_result"
    }
   ],
   "source": [
    "sMarket[!,:DirectionInt] .=0"
   ]
  },
  {
   "cell_type": "code",
   "execution_count": 52,
   "id": "5ec19461",
   "metadata": {},
   "outputs": [],
   "source": [
    "for i in 1:nrow(sMarket)\n",
    "    if sMarket[i,:Direction] == \"Up\"\n",
    "        sMarket[i,:DirectionInt] = 1\n",
    "    else\n",
    "        sMarket[i,:DirectionInt] = 0\n",
    "    end\n",
    "end"
   ]
  },
  {
   "cell_type": "code",
   "execution_count": 54,
   "id": "7ad9fed3",
   "metadata": {},
   "outputs": [
    {
     "data": {
      "text/plain": [
       "StatsModels.TableRegressionModel{GeneralizedLinearModel{GLM.GlmResp{Vector{Float64}, Binomial{Float64}, LogitLink}, GLM.DensePredChol{Float64, LinearAlgebra.CholeskyPivoted{Float64, Matrix{Float64}, Vector{Int64}}}}, Matrix{Float64}}\n",
       "\n",
       "DirectionInt ~ 1 + Lag1 + Lag2 + Lag3 + Lag4 + Lag5 + Volume\n",
       "\n",
       "Coefficients:\n",
       "────────────────────────────────────────────────────────────────────────────\n",
       "                   Coef.  Std. Error      z  Pr(>|z|)   Lower 95%  Upper 95%\n",
       "────────────────────────────────────────────────────────────────────────────\n",
       "(Intercept)  -0.126        0.240736   -0.52    0.6007  -0.597834   0.345833\n",
       "Lag1         -0.0730737    0.0501674  -1.46    0.1452  -0.1714     0.0252525\n",
       "Lag2         -0.0423013    0.0500861  -0.84    0.3983  -0.140468   0.0558655\n",
       "Lag3          0.0110851    0.0499385   0.22    0.8243  -0.0867926  0.108963\n",
       "Lag4          0.00935894   0.0499741   0.19    0.8514  -0.0885886  0.107306\n",
       "Lag5          0.0103131    0.0495115   0.21    0.8350  -0.0867276  0.107354\n",
       "Volume        0.135441     0.15836     0.86    0.3924  -0.174939   0.44582\n",
       "────────────────────────────────────────────────────────────────────────────"
      ]
     },
     "execution_count": 54,
     "metadata": {},
     "output_type": "execute_result"
    }
   ],
   "source": [
    "fm = @formula(DirectionInt ~ Lag1 + Lag2 + Lag3 + Lag4 + Lag5 + Volume)\n",
    "logit = glm(fm, sMarket, Binomial(), LogitLink())\n",
    "    \n",
    "#LogitLink is the logistic regression, categorical arrays dont work with glm"
   ]
  },
  {
   "cell_type": "code",
   "execution_count": 59,
   "id": "5f1c0ca9",
   "metadata": {},
   "outputs": [
    {
     "data": {
      "text/plain": [
       "1250-element Vector{Float64}:\n",
       " 0.5070841333954018\n",
       " 0.481467878454591\n",
       " 0.4811388352142015\n",
       " 0.5152223558130217\n",
       " 0.5107811626915382\n",
       " 0.5069564605349107\n",
       " 0.4926508741870379\n",
       " 0.5092291582073771\n",
       " 0.5176135261709579\n",
       " 0.4888377797713764\n",
       " 0.4965211028046774\n",
       " 0.5197833547582474\n",
       " 0.5183031103890853\n",
       " ⋮\n",
       " 0.5375299453881482\n",
       " 0.5281696527187009\n",
       " 0.5428336978014748\n",
       " 0.565004943915565\n",
       " 0.5587216432856218\n",
       " 0.5425798220324783\n",
       " 0.5313869831562721\n",
       " 0.5198923649245704\n",
       " 0.5059255624544413\n",
       " 0.5392682991260247\n",
       " 0.52611829016149\n",
       " 0.5179165617818258"
      ]
     },
     "execution_count": 59,
     "metadata": {},
     "output_type": "execute_result"
    }
   ],
   "source": [
    "predictions = predict(logit) #There is no response type in Julia, auto assumes Y = P(1|X)"
   ]
  },
  {
   "cell_type": "markdown",
   "id": "47f73de3",
   "metadata": {},
   "source": [
    "Training error rate = 1 - P(1|X), P(1|X): Fraction of correct predictions."
   ]
  }
 ],
 "metadata": {
  "kernelspec": {
   "display_name": "Julia 1.9.0",
   "language": "julia",
   "name": "julia-1.9"
  },
  "language_info": {
   "file_extension": ".jl",
   "mimetype": "application/julia",
   "name": "julia",
   "version": "1.9.0"
  }
 },
 "nbformat": 4,
 "nbformat_minor": 5
}

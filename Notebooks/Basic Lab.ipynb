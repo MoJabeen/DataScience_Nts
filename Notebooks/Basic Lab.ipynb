{
 "cells": [
  {
   "cell_type": "markdown",
   "id": "6c2d2d9e",
   "metadata": {},
   "source": [
    "# Basics Julia Stats"
   ]
  },
  {
   "cell_type": "code",
   "execution_count": null,
   "id": "5c27d4b9",
   "metadata": {},
   "outputs": [],
   "source": []
  }
 ],
 "metadata": {
  "kernelspec": {
   "display_name": "Julia 1.8.2",
   "language": "julia",
   "name": "julia-1.8"
  },
  "language_info": {
   "file_extension": ".jl",
   "mimetype": "application/julia",
   "name": "julia",
   "version": "1.8.2"
  }
 },
 "nbformat": 4,
 "nbformat_minor": 5
}

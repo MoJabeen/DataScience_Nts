{
 "cells": [
  {
   "cell_type": "markdown",
   "id": "b4615be5",
   "metadata": {},
   "source": [
    "# Tuning"
   ]
  },
  {
   "cell_type": "markdown",
   "id": "94071909",
   "metadata": {},
   "source": [
    "Models are wrapped into tuning strategies, and the wrapped model is then trainined as a machine with data. The \n",
    "training will initiate a search for optimal model hyperparameters.\n"
   ]
  },
  {
   "cell_type": "code",
   "execution_count": 1,
   "id": "8f8c5ed7",
   "metadata": {},
   "outputs": [],
   "source": [
    "using MLJ\n",
    "import RDatasets: dataset\n",
    "import DataFrames: DataFrame, select"
   ]
  },
  {
   "cell_type": "code",
   "execution_count": 2,
   "id": "b724be1a",
   "metadata": {},
   "outputs": [
    {
     "name": "stderr",
     "output_type": "stream",
     "text": [
      "\u001b[36m\u001b[1m[ \u001b[22m\u001b[39m\u001b[36m\u001b[1mInfo: \u001b[22m\u001b[39mFor silent loading, specify `verbosity=0`. \n"
     ]
    },
    {
     "name": "stdout",
     "output_type": "stream",
     "text": [
      "import MLJDecisionTreeInterface ✔\n"
     ]
    },
    {
     "data": {
      "text/plain": [
       "MLJDecisionTreeInterface.DecisionTreeClassifier"
      ]
     },
     "execution_count": 2,
     "metadata": {},
     "output_type": "execute_result"
    }
   ],
   "source": [
    "X, y = @load_iris\n",
    "DecisionTreeClassifier = @load DecisionTreeClassifier pkg=DecisionTree"
   ]
  },
  {
   "cell_type": "markdown",
   "id": "cbe7cd9f",
   "metadata": {},
   "source": [
    "The key is to use the range function to specify the values for the parameter."
   ]
  },
  {
   "cell_type": "code",
   "execution_count": 3,
   "id": "8c70deea",
   "metadata": {},
   "outputs": [
    {
     "data": {
      "text/plain": [
       "NumericRange(1 ≤ max_depth ≤ 5; origin=3.0, unit=2.0)"
      ]
     },
     "execution_count": 3,
     "metadata": {},
     "output_type": "execute_result"
    }
   ],
   "source": [
    "dtc = DecisionTreeClassifier()\n",
    "r   = range(dtc, :max_depth, lower=1, upper=5) #Max depth is the hyperparameter of interest"
   ]
  },
  {
   "cell_type": "markdown",
   "id": "25b06462",
   "metadata": {},
   "source": [
    "Then a tuning strategy is created:"
   ]
  },
  {
   "cell_type": "code",
   "execution_count": 4,
   "id": "c44f0cf3",
   "metadata": {},
   "outputs": [
    {
     "data": {
      "text/plain": [
       "ProbabilisticTunedModel(\n",
       "  model = DecisionTreeClassifier(\n",
       "        max_depth = -1, \n",
       "        min_samples_leaf = 1, \n",
       "        min_samples_split = 2, \n",
       "        min_purity_increase = 0.0, \n",
       "        n_subfeatures = 0, \n",
       "        post_prune = false, \n",
       "        merge_purity_threshold = 1.0, \n",
       "        display_depth = 5, \n",
       "        feature_importance = :impurity, \n",
       "        rng = Random._GLOBAL_RNG()), \n",
       "  tuning = RandomSearch(\n",
       "        bounded = Distributions.Uniform, \n",
       "        positive_unbounded = Distributions.Gamma, \n",
       "        other = Distributions.Normal, \n",
       "        rng = Random._GLOBAL_RNG()), \n",
       "  resampling = Holdout(\n",
       "        fraction_train = 0.7, \n",
       "        shuffle = false, \n",
       "        rng = Random._GLOBAL_RNG()), \n",
       "  measure = LogLoss(\n",
       "        tol = 2.220446049250313e-16), \n",
       "  weights = nothing, \n",
       "  class_weights = nothing, \n",
       "  operation = nothing, \n",
       "  range = MLJBase.NumericRange{Int64, MLJBase.Bounded, Symbol}[NumericRange(1 ≤ max_depth ≤ 5; origin=3.0, unit=2.0)], \n",
       "  selection_heuristic = MLJTuning.NaiveSelection(nothing), \n",
       "  train_best = true, \n",
       "  repeats = 1, \n",
       "  n = nothing, \n",
       "  acceleration = CPU1{Nothing}(nothing), \n",
       "  acceleration_resampling = CPU1{Nothing}(nothing), \n",
       "  check_measure = true, \n",
       "  cache = true)"
      ]
     },
     "execution_count": 4,
     "metadata": {},
     "output_type": "execute_result"
    }
   ],
   "source": [
    "tm = TunedModel(model=dtc,ranges=[r,],measure=cross_entropy)"
   ]
  },
  {
   "cell_type": "markdown",
   "id": "d033d596",
   "metadata": {},
   "source": [
    "The tuning strategy is controlled by:\n",
    "1. Model\n",
    "2. ranges of parameters\n",
    "3. measure of error\n",
    "4. the tuning algorithm (i.e Grid)\n",
    "5. Resampling strat (ie Holdout, CV)"
   ]
  },
  {
   "cell_type": "code",
   "execution_count": 5,
   "id": "d8af054e",
   "metadata": {},
   "outputs": [
    {
     "name": "stderr",
     "output_type": "stream",
     "text": [
      "\u001b[36m\u001b[1m[ \u001b[22m\u001b[39m\u001b[36m\u001b[1mInfo: \u001b[22m\u001b[39mTraining machine(ProbabilisticTunedModel(model = DecisionTreeClassifier(max_depth = -1, …), …), …).\n",
      "\u001b[36m\u001b[1m[ \u001b[22m\u001b[39m\u001b[36m\u001b[1mInfo: \u001b[22m\u001b[39mAttempting to evaluate 10 models.\n",
      "\u001b[33mEvaluating over 10 metamodels: 100%[=========================] Time: 0:00:05\u001b[39m\n"
     ]
    },
    {
     "data": {
      "text/plain": [
       "trained Machine; does not cache data\n",
       "  model: ProbabilisticTunedModel(model = DecisionTreeClassifier(max_depth = -1, …), …)\n",
       "  args: \n",
       "    1:\tSource @448 ⏎ Table{AbstractVector{Continuous}}\n",
       "    2:\tSource @874 ⏎ AbstractVector{Multiclass{3}}\n"
      ]
     },
     "execution_count": 5,
     "metadata": {},
     "output_type": "execute_result"
    }
   ],
   "source": [
    "m = machine(tm, X, y)\n",
    "fit!(m)"
   ]
  },
  {
   "cell_type": "markdown",
   "id": "185a59a3",
   "metadata": {},
   "source": [
    "To find the best model access the machines fields via fitted_params, use the feild\n",
    "best_model."
   ]
  },
  {
   "cell_type": "code",
   "execution_count": 6,
   "id": "7177b815",
   "metadata": {},
   "outputs": [
    {
     "data": {
      "text/plain": [
       "DecisionTreeClassifier(\n",
       "  max_depth = 2, \n",
       "  min_samples_leaf = 1, \n",
       "  min_samples_split = 2, \n",
       "  min_purity_increase = 0.0, \n",
       "  n_subfeatures = 0, \n",
       "  post_prune = false, \n",
       "  merge_purity_threshold = 1.0, \n",
       "  display_depth = 5, \n",
       "  feature_importance = :impurity, \n",
       "  rng = Random._GLOBAL_RNG())"
      ]
     },
     "execution_count": 6,
     "metadata": {},
     "output_type": "execute_result"
    }
   ],
   "source": [
    "fitted_params(m).best_model"
   ]
  },
  {
   "cell_type": "markdown",
   "id": "057ae775",
   "metadata": {},
   "source": [
    "Optimise based on error rate on predicted class:"
   ]
  },
  {
   "cell_type": "code",
   "execution_count": 7,
   "id": "1ca69487",
   "metadata": {},
   "outputs": [
    {
     "name": "stderr",
     "output_type": "stream",
     "text": [
      "\u001b[36m\u001b[1m[ \u001b[22m\u001b[39m\u001b[36m\u001b[1mInfo: \u001b[22m\u001b[39mTraining machine(ProbabilisticTunedModel(model = DecisionTreeClassifier(max_depth = -1, …), …), …).\n",
      "\u001b[36m\u001b[1m[ \u001b[22m\u001b[39m\u001b[36m\u001b[1mInfo: \u001b[22m\u001b[39mAttempting to evaluate 10 models.\n",
      "\u001b[33mEvaluating over 10 metamodels: 100%[=========================] Time: 0:00:00\u001b[39m\n"
     ]
    },
    {
     "data": {
      "text/plain": [
       "DecisionTreeClassifier(\n",
       "  max_depth = 2, \n",
       "  min_samples_leaf = 1, \n",
       "  min_samples_split = 2, \n",
       "  min_purity_increase = 0.0, \n",
       "  n_subfeatures = 0, \n",
       "  post_prune = false, \n",
       "  merge_purity_threshold = 1.0, \n",
       "  display_depth = 5, \n",
       "  feature_importance = :impurity, \n",
       "  rng = Random._GLOBAL_RNG())"
      ]
     },
     "execution_count": 7,
     "metadata": {},
     "output_type": "execute_result"
    }
   ],
   "source": [
    "tm = TunedModel(model=dtc, ranges=r, operation=predict_mode,\n",
    "                measure=misclassification_rate)\n",
    "m = machine(tm, X, y)\n",
    "fit!(m)\n",
    "fitted_params(m).best_model"
   ]
  },
  {
   "cell_type": "code",
   "execution_count": 8,
   "id": "05a712cc",
   "metadata": {},
   "outputs": [
    {
     "data": {
      "text/plain": [
       "(model = DecisionTreeClassifier(max_depth = 2, …),\n",
       " measure = [MisclassificationRate()],\n",
       " measurement = [0.1111111111111111],\n",
       " per_fold = [[0.1111111111111111]],)"
      ]
     },
     "execution_count": 8,
     "metadata": {},
     "output_type": "execute_result"
    }
   ],
   "source": [
    "report(m).best_history_entry"
   ]
  },
  {
   "cell_type": "markdown",
   "id": "0d47899c",
   "metadata": {},
   "source": [
    "For nested hyperparamters access them by using model.nested_parameter"
   ]
  },
  {
   "cell_type": "code",
   "execution_count": 9,
   "id": "257d0279",
   "metadata": {},
   "outputs": [
    {
     "name": "stderr",
     "output_type": "stream",
     "text": [
      "\u001b[33mEvaluating over 3 folds: 100%[=========================] Time: 0:00:00\u001b[39m\n"
     ]
    },
    {
     "data": {
      "text/plain": [
       "PerformanceEvaluation object with these fields:\n",
       "  measure, operation, measurement, per_fold,\n",
       "  per_observation, fitted_params_per_fold,\n",
       "  report_per_fold, train_test_rows\n",
       "Extract:\n",
       "┌─────────────────────────┬──────────────┬─────────────┬─────────┬──────────────\n",
       "│\u001b[22m measure                 \u001b[0m│\u001b[22m operation    \u001b[0m│\u001b[22m measurement \u001b[0m│\u001b[22m 1.96*SE \u001b[0m│\u001b[22m per_fold   \u001b[0m ⋯\n",
       "├─────────────────────────┼──────────────┼─────────────┼─────────┼──────────────\n",
       "│ MisclassificationRate() │ predict_mode │ 1.0         │ 0.0     │ [1.0, 1.0,  ⋯\n",
       "└─────────────────────────┴──────────────┴─────────────┴─────────┴──────────────\n",
       "\u001b[36m                                                                1 column omitted\u001b[0m\n"
      ]
     },
     "execution_count": 9,
     "metadata": {},
     "output_type": "execute_result"
    }
   ],
   "source": [
    "meh = evaluate!(m,resampling=CV(nfolds=3),measure=misclassification_rate)\n",
    "\n",
    "meh"
   ]
  }
 ],
 "metadata": {
  "kernelspec": {
   "display_name": "Julia 1.8.2",
   "language": "julia",
   "name": "julia-1.8"
  },
  "language_info": {
   "file_extension": ".jl",
   "mimetype": "application/julia",
   "name": "julia",
   "version": "1.8.2"
  }
 },
 "nbformat": 4,
 "nbformat_minor": 5
}

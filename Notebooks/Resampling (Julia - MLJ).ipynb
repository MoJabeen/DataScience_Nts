{
 "cells": [
  {
   "cell_type": "markdown",
   "id": "35fe3c7c",
   "metadata": {},
   "source": [
    "# Cross validation via MLJ"
   ]
  },
  {
   "cell_type": "code",
   "execution_count": 1,
   "id": "e76dc7e7",
   "metadata": {},
   "outputs": [
    {
     "name": "stderr",
     "output_type": "stream",
     "text": [
      "\u001b[36m\u001b[1m[ \u001b[22m\u001b[39m\u001b[36m\u001b[1mInfo: \u001b[22m\u001b[39mPrecompiling MLJ [add582a8-e3ab-11e8-2d5e-e98b27df1bc7]\n",
      "WARNING: method definition for rand at /Users/mohammadjabeen/.julia/packages/MLJBase/pCCd7/src/hyperparam/one_dimensional_range_methods.jl:406 declares type variable I but does not use it.\n",
      "WARNING: method definition for rand at /Users/mohammadjabeen/.julia/packages/MLJBase/pCCd7/src/hyperparam/one_dimensional_range_methods.jl:410 declares type variable I but does not use it.\n",
      "WARNING: method definition for #MulticlassTruePositiveRate#399 at /Users/mohammadjabeen/.julia/packages/MLJBase/pCCd7/src/measures/finite.jl:762 declares type variable T but does not use it.\n",
      "WARNING: method definition for #MulticlassTruePositiveRate#399 at /Users/mohammadjabeen/.julia/packages/MLJBase/pCCd7/src/measures/finite.jl:762 declares type variable U but does not use it.\n",
      "WARNING: method definition for #MulticlassTrueNegativeRate#400 at /Users/mohammadjabeen/.julia/packages/MLJBase/pCCd7/src/measures/finite.jl:762 declares type variable T but does not use it.\n",
      "WARNING: method definition for #MulticlassTrueNegativeRate#400 at /Users/mohammadjabeen/.julia/packages/MLJBase/pCCd7/src/measures/finite.jl:762 declares type variable U but does not use it.\n",
      "WARNING: method definition for #MulticlassFalsePositiveRate#401 at /Users/mohammadjabeen/.julia/packages/MLJBase/pCCd7/src/measures/finite.jl:762 declares type variable T but does not use it.\n",
      "WARNING: method definition for #MulticlassFalsePositiveRate#401 at /Users/mohammadjabeen/.julia/packages/MLJBase/pCCd7/src/measures/finite.jl:762 declares type variable U but does not use it.\n",
      "WARNING: method definition for #MulticlassFalseNegativeRate#402 at /Users/mohammadjabeen/.julia/packages/MLJBase/pCCd7/src/measures/finite.jl:762 declares type variable T but does not use it.\n",
      "WARNING: method definition for #MulticlassFalseNegativeRate#402 at /Users/mohammadjabeen/.julia/packages/MLJBase/pCCd7/src/measures/finite.jl:762 declares type variable U but does not use it.\n",
      "WARNING: method definition for #MulticlassFalseDiscoveryRate#403 at /Users/mohammadjabeen/.julia/packages/MLJBase/pCCd7/src/measures/finite.jl:762 declares type variable T but does not use it.\n",
      "WARNING: method definition for #MulticlassFalseDiscoveryRate#403 at /Users/mohammadjabeen/.julia/packages/MLJBase/pCCd7/src/measures/finite.jl:762 declares type variable U but does not use it.\n",
      "WARNING: method definition for #MulticlassPrecision#404 at /Users/mohammadjabeen/.julia/packages/MLJBase/pCCd7/src/measures/finite.jl:762 declares type variable T but does not use it.\n",
      "WARNING: method definition for #MulticlassPrecision#404 at /Users/mohammadjabeen/.julia/packages/MLJBase/pCCd7/src/measures/finite.jl:762 declares type variable U but does not use it.\n",
      "WARNING: method definition for #MulticlassNegativePredictiveValue#405 at /Users/mohammadjabeen/.julia/packages/MLJBase/pCCd7/src/measures/finite.jl:762 declares type variable T but does not use it.\n",
      "WARNING: method definition for #MulticlassNegativePredictiveValue#405 at /Users/mohammadjabeen/.julia/packages/MLJBase/pCCd7/src/measures/finite.jl:762 declares type variable U but does not use it.\n",
      "\u001b[36m\u001b[1m[ \u001b[22m\u001b[39m\u001b[36m\u001b[1mInfo: \u001b[22m\u001b[39mPrecompiling RDatasets [ce6b1742-4840-55fa-b093-852dadbb1d8b]\n"
     ]
    }
   ],
   "source": [
    "using MLJ\n",
    "import RDatasets: dataset\n",
    "import DataFrames: DataFrame, select\n",
    "auto = dataset(\"ISLR\", \"Auto\")\n",
    "y, X = unpack(auto, ==(:MPG), col->true)\n",
    "train, test = partition(eachindex(y), 0.5, shuffle=true, rng=444);"
   ]
  },
  {
   "cell_type": "code",
   "execution_count": 3,
   "id": "df6829b5",
   "metadata": {},
   "outputs": [
    {
     "name": "stdout",
     "output_type": "stream",
     "text": [
      "import MLJLinearModels ✔"
     ]
    },
    {
     "name": "stderr",
     "output_type": "stream",
     "text": [
      "\u001b[36m\u001b[1m[ \u001b[22m\u001b[39m\u001b[36m\u001b[1mInfo: \u001b[22m\u001b[39mFor silent loading, specify `verbosity=0`. \n"
     ]
    },
    {
     "name": "stdout",
     "output_type": "stream",
     "text": [
      "\n"
     ]
    },
    {
     "data": {
      "text/plain": [
       "MLJLinearModels.LinearRegressor"
      ]
     },
     "execution_count": 3,
     "metadata": {},
     "output_type": "execute_result"
    }
   ],
   "source": [
    "LR = @load LinearRegressor pkg=MLJLinearModels"
   ]
  },
  {
   "cell_type": "code",
   "execution_count": 4,
   "id": "53ee6908",
   "metadata": {},
   "outputs": [
    {
     "name": "stderr",
     "output_type": "stream",
     "text": [
      "\u001b[36m\u001b[1m[ \u001b[22m\u001b[39m\u001b[36m\u001b[1mInfo: \u001b[22m\u001b[39mTraining \u001b[34mMachine{LinearRegressor,…} @717\u001b[39m.\n",
      "\u001b[36m\u001b[1m┌ \u001b[22m\u001b[39m\u001b[36m\u001b[1mInfo: \u001b[22m\u001b[39mSolver: MLJLinearModels.Analytical\n",
      "\u001b[36m\u001b[1m│ \u001b[22m\u001b[39m  iterative: Bool false\n",
      "\u001b[36m\u001b[1m└ \u001b[22m\u001b[39m  max_inner: Int64 200\n"
     ]
    },
    {
     "data": {
      "text/plain": [
       "23.493990895007986"
      ]
     },
     "execution_count": 4,
     "metadata": {},
     "output_type": "execute_result"
    }
   ],
   "source": [
    "lm = LR()\n",
    "mlm = machine(lm, select(X, :Horsepower), y) #Only use horsepower as predictor\n",
    "fit!(mlm, rows=train)\n",
    "rms(MLJ.predict(mlm, rows=test), y[test])^2"
   ]
  },
  {
   "cell_type": "markdown",
   "id": "f4e36164",
   "metadata": {},
   "source": [
    "Create 3 models up third order poly by creating a df with each order:"
   ]
  },
  {
   "cell_type": "code",
   "execution_count": 5,
   "id": "86abb202",
   "metadata": {},
   "outputs": [],
   "source": [
    "hp = X.Horsepower\n",
    "Xhp = DataFrame(hp1=hp, hp2=hp.^2, hp3=hp.^3);"
   ]
  },
  {
   "cell_type": "markdown",
   "id": "246d460b",
   "metadata": {},
   "source": [
    "Create a pipeline, for selecting the desired feature. Accessed like a struct."
   ]
  }
 ],
 "metadata": {
  "kernelspec": {
   "display_name": "Julia 1.8.2",
   "language": "julia",
   "name": "julia-1.8"
  },
  "language_info": {
   "file_extension": ".jl",
   "mimetype": "application/julia",
   "name": "julia",
   "version": "1.8.2"
  }
 },
 "nbformat": 4,
 "nbformat_minor": 5
}
